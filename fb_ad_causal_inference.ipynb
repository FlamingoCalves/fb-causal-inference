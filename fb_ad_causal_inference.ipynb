{
 "cells": [
  {
   "cell_type": "code",
   "execution_count": 33,
   "metadata": {},
   "outputs": [
    {
     "name": "stdout",
     "output_type": "stream",
     "text": [
      "(1143, 15)\n"
     ]
    },
    {
     "data": {
      "text/html": [
       "<div>\n",
       "<style scoped>\n",
       "    .dataframe tbody tr th:only-of-type {\n",
       "        vertical-align: middle;\n",
       "    }\n",
       "\n",
       "    .dataframe tbody tr th {\n",
       "        vertical-align: top;\n",
       "    }\n",
       "\n",
       "    .dataframe thead th {\n",
       "        text-align: right;\n",
       "    }\n",
       "</style>\n",
       "<table border=\"1\" class=\"dataframe\">\n",
       "  <thead>\n",
       "    <tr style=\"text-align: right;\">\n",
       "      <th></th>\n",
       "      <th>ad_id</th>\n",
       "      <th>reporting_start</th>\n",
       "      <th>reporting_end</th>\n",
       "      <th>campaign_id</th>\n",
       "      <th>fb_campaign_id</th>\n",
       "      <th>age</th>\n",
       "      <th>gender</th>\n",
       "      <th>interest1</th>\n",
       "      <th>interest2</th>\n",
       "      <th>interest3</th>\n",
       "      <th>impressions</th>\n",
       "      <th>clicks</th>\n",
       "      <th>spent</th>\n",
       "      <th>total_conversion</th>\n",
       "      <th>approved_conversion</th>\n",
       "    </tr>\n",
       "  </thead>\n",
       "  <tbody>\n",
       "    <tr>\n",
       "      <th>0</th>\n",
       "      <td>708746</td>\n",
       "      <td>17/08/2017</td>\n",
       "      <td>17/08/2017</td>\n",
       "      <td>916</td>\n",
       "      <td>103916</td>\n",
       "      <td>30-34</td>\n",
       "      <td>M</td>\n",
       "      <td>15</td>\n",
       "      <td>17</td>\n",
       "      <td>17</td>\n",
       "      <td>7350.0</td>\n",
       "      <td>1</td>\n",
       "      <td>1.43</td>\n",
       "      <td>2.0</td>\n",
       "      <td>1.0</td>\n",
       "    </tr>\n",
       "    <tr>\n",
       "      <th>1</th>\n",
       "      <td>708749</td>\n",
       "      <td>17/08/2017</td>\n",
       "      <td>17/08/2017</td>\n",
       "      <td>916</td>\n",
       "      <td>103917</td>\n",
       "      <td>30-34</td>\n",
       "      <td>M</td>\n",
       "      <td>16</td>\n",
       "      <td>19</td>\n",
       "      <td>21</td>\n",
       "      <td>17861.0</td>\n",
       "      <td>2</td>\n",
       "      <td>1.82</td>\n",
       "      <td>2.0</td>\n",
       "      <td>0.0</td>\n",
       "    </tr>\n",
       "    <tr>\n",
       "      <th>2</th>\n",
       "      <td>708771</td>\n",
       "      <td>17/08/2017</td>\n",
       "      <td>17/08/2017</td>\n",
       "      <td>916</td>\n",
       "      <td>103920</td>\n",
       "      <td>30-34</td>\n",
       "      <td>M</td>\n",
       "      <td>20</td>\n",
       "      <td>25</td>\n",
       "      <td>22</td>\n",
       "      <td>693.0</td>\n",
       "      <td>0</td>\n",
       "      <td>0.00</td>\n",
       "      <td>1.0</td>\n",
       "      <td>0.0</td>\n",
       "    </tr>\n",
       "    <tr>\n",
       "      <th>3</th>\n",
       "      <td>708815</td>\n",
       "      <td>30/08/2017</td>\n",
       "      <td>30/08/2017</td>\n",
       "      <td>916</td>\n",
       "      <td>103928</td>\n",
       "      <td>30-34</td>\n",
       "      <td>M</td>\n",
       "      <td>28</td>\n",
       "      <td>32</td>\n",
       "      <td>32</td>\n",
       "      <td>4259.0</td>\n",
       "      <td>1</td>\n",
       "      <td>1.25</td>\n",
       "      <td>1.0</td>\n",
       "      <td>0.0</td>\n",
       "    </tr>\n",
       "    <tr>\n",
       "      <th>4</th>\n",
       "      <td>708818</td>\n",
       "      <td>17/08/2017</td>\n",
       "      <td>17/08/2017</td>\n",
       "      <td>916</td>\n",
       "      <td>103928</td>\n",
       "      <td>30-34</td>\n",
       "      <td>M</td>\n",
       "      <td>28</td>\n",
       "      <td>33</td>\n",
       "      <td>32</td>\n",
       "      <td>4133.0</td>\n",
       "      <td>1</td>\n",
       "      <td>1.29</td>\n",
       "      <td>1.0</td>\n",
       "      <td>1.0</td>\n",
       "    </tr>\n",
       "  </tbody>\n",
       "</table>\n",
       "</div>"
      ],
      "text/plain": [
       "    ad_id reporting_start reporting_end campaign_id fb_campaign_id    age  \\\n",
       "0  708746      17/08/2017    17/08/2017         916         103916  30-34   \n",
       "1  708749      17/08/2017    17/08/2017         916         103917  30-34   \n",
       "2  708771      17/08/2017    17/08/2017         916         103920  30-34   \n",
       "3  708815      30/08/2017    30/08/2017         916         103928  30-34   \n",
       "4  708818      17/08/2017    17/08/2017         916         103928  30-34   \n",
       "\n",
       "  gender  interest1  interest2  interest3  impressions  clicks  spent  \\\n",
       "0      M         15         17         17       7350.0       1   1.43   \n",
       "1      M         16         19         21      17861.0       2   1.82   \n",
       "2      M         20         25         22        693.0       0   0.00   \n",
       "3      M         28         32         32       4259.0       1   1.25   \n",
       "4      M         28         33         32       4133.0       1   1.29   \n",
       "\n",
       "   total_conversion  approved_conversion  \n",
       "0               2.0                  1.0  \n",
       "1               2.0                  0.0  \n",
       "2               1.0                  0.0  \n",
       "3               1.0                  0.0  \n",
       "4               1.0                  1.0  "
      ]
     },
     "metadata": {},
     "output_type": "display_data"
    }
   ],
   "source": [
    "#Imports\n",
    "import pandas as pd\n",
    "import numpy as np\n",
    "import matplotlib.pyplot as plt\n",
    "import matplotlib.colors as mcolors\n",
    "import seaborn as sns\n",
    "import warnings\n",
    "\n",
    "#warnings.filterwarnings('ignore')\n",
    "\n",
    "#Read in data and check shape\n",
    "df = pd.read_csv('data.csv')\n",
    "print(df.shape)\n",
    "display(df.head())\n",
    "\n",
    "#pd.set_option('display.max_columns', None)\n",
    "#pd.set_option('display.max_rows', None)"
   ]
  },
  {
   "cell_type": "code",
   "execution_count": 34,
   "metadata": {},
   "outputs": [
    {
     "name": "stdout",
     "output_type": "stream",
     "text": [
      "ad_id                    0\n",
      "reporting_start          0\n",
      "reporting_end            0\n",
      "campaign_id              0\n",
      "fb_campaign_id           0\n",
      "age                      0\n",
      "gender                   0\n",
      "interest1                0\n",
      "interest2                0\n",
      "interest3                0\n",
      "impressions              0\n",
      "clicks                   0\n",
      "spent                    0\n",
      "total_conversion       382\n",
      "approved_conversion    382\n",
      "dtype: int64\n",
      "\n",
      "ad_id                    int64\n",
      "reporting_start         object\n",
      "reporting_end           object\n",
      "campaign_id             object\n",
      "fb_campaign_id          object\n",
      "age                     object\n",
      "gender                  object\n",
      "interest1                int64\n",
      "interest2                int64\n",
      "interest3                int64\n",
      "impressions            float64\n",
      "clicks                   int64\n",
      "spent                  float64\n",
      "total_conversion       float64\n",
      "approved_conversion    float64\n",
      "dtype: object\n",
      "\n",
      "              ad_id    interest1     interest2    interest3   impressions  \\\n",
      "count  1.143000e+03  1143.000000  1.143000e+03  1143.000000  1.143000e+03   \n",
      "mean   9.872611e+05    33.884514  1.180606e+05    42.474191  6.872500e+04   \n",
      "std    1.939928e+05    27.560263  2.670506e+05    48.987248  2.067023e+05   \n",
      "min    7.087460e+05     2.000000  3.000000e+00     0.000000  0.000000e+00   \n",
      "25%    7.776325e+05    16.000000  2.200000e+01    19.000000  1.442650e+02   \n",
      "50%    1.121185e+06    26.000000  3.300000e+01    27.000000  3.142000e+03   \n",
      "75%    1.121804e+06    32.000000  9.889400e+04    38.000000  2.786400e+04   \n",
      "max    1.314415e+06   120.000000  2.286228e+06   421.000000  3.052003e+06   \n",
      "\n",
      "            clicks        spent  total_conversion  approved_conversion  \n",
      "count  1143.000000  1143.000000        761.000000           761.000000  \n",
      "mean     11.629921    17.597760          2.161629             0.768725  \n",
      "std      27.347899    48.418711          4.062201             1.656445  \n",
      "min       0.000000     0.000000          0.000000             0.000000  \n",
      "25%       1.000000     0.000000          1.000000             0.000000  \n",
      "50%       2.000000     1.530000          1.000000             0.000000  \n",
      "75%       8.000000     8.540000          2.000000             1.000000  \n",
      "max     340.000000   639.949998         60.000000            21.000000  \n",
      "\n",
      "0\n"
     ]
    },
    {
     "data": {
      "text/html": [
       "<div>\n",
       "<style scoped>\n",
       "    .dataframe tbody tr th:only-of-type {\n",
       "        vertical-align: middle;\n",
       "    }\n",
       "\n",
       "    .dataframe tbody tr th {\n",
       "        vertical-align: top;\n",
       "    }\n",
       "\n",
       "    .dataframe thead th {\n",
       "        text-align: right;\n",
       "    }\n",
       "</style>\n",
       "<table border=\"1\" class=\"dataframe\">\n",
       "  <thead>\n",
       "    <tr style=\"text-align: right;\">\n",
       "      <th></th>\n",
       "      <th>ad_id</th>\n",
       "      <th>reporting_start</th>\n",
       "      <th>reporting_end</th>\n",
       "      <th>campaign_id</th>\n",
       "      <th>fb_campaign_id</th>\n",
       "      <th>age</th>\n",
       "      <th>gender</th>\n",
       "      <th>interest1</th>\n",
       "      <th>interest2</th>\n",
       "      <th>interest3</th>\n",
       "      <th>impressions</th>\n",
       "      <th>clicks</th>\n",
       "      <th>spent</th>\n",
       "      <th>total_conversion</th>\n",
       "      <th>approved_conversion</th>\n",
       "    </tr>\n",
       "  </thead>\n",
       "  <tbody>\n",
       "  </tbody>\n",
       "</table>\n",
       "</div>"
      ],
      "text/plain": [
       "Empty DataFrame\n",
       "Columns: [ad_id, reporting_start, reporting_end, campaign_id, fb_campaign_id, age, gender, interest1, interest2, interest3, impressions, clicks, spent, total_conversion, approved_conversion]\n",
       "Index: []"
      ]
     },
     "metadata": {},
     "output_type": "display_data"
    }
   ],
   "source": [
    "# df.dropna(subset='Fighter 2', inplace=True)\n",
    "# df.dropna(subset='Date', inplace=True)\n",
    "\n",
    "#Check for null values, data types, and duplicates\n",
    "print(df.isnull().sum())\n",
    "print()\n",
    "print(df.dtypes)\n",
    "print()\n",
    "print(df.describe())\n",
    "print()\n",
    "print(df.duplicated().sum())\n",
    "\n",
    "# Find and display duplicates\n",
    "duplicates = df[df.duplicated()]\n",
    "display(duplicates)"
   ]
  },
  {
   "cell_type": "code",
   "execution_count": 3,
   "metadata": {},
   "outputs": [
    {
     "data": {
      "text/html": [
       "<div>\n",
       "<style scoped>\n",
       "    .dataframe tbody tr th:only-of-type {\n",
       "        vertical-align: middle;\n",
       "    }\n",
       "\n",
       "    .dataframe tbody tr th {\n",
       "        vertical-align: top;\n",
       "    }\n",
       "\n",
       "    .dataframe thead th {\n",
       "        text-align: right;\n",
       "    }\n",
       "</style>\n",
       "<table border=\"1\" class=\"dataframe\">\n",
       "  <thead>\n",
       "    <tr style=\"text-align: right;\">\n",
       "      <th></th>\n",
       "      <th>ad_id</th>\n",
       "      <th>reporting_start</th>\n",
       "      <th>reporting_end</th>\n",
       "      <th>campaign_id</th>\n",
       "      <th>fb_campaign_id</th>\n",
       "      <th>age</th>\n",
       "      <th>gender</th>\n",
       "      <th>interest1</th>\n",
       "      <th>interest2</th>\n",
       "      <th>interest3</th>\n",
       "      <th>impressions</th>\n",
       "      <th>clicks</th>\n",
       "      <th>spent</th>\n",
       "      <th>total_conversion</th>\n",
       "      <th>approved_conversion</th>\n",
       "    </tr>\n",
       "  </thead>\n",
       "  <tbody>\n",
       "    <tr>\n",
       "      <th>761</th>\n",
       "      <td>1121594</td>\n",
       "      <td>26/08/2017</td>\n",
       "      <td>26/08/2017</td>\n",
       "      <td>45-49</td>\n",
       "      <td>M</td>\n",
       "      <td>10</td>\n",
       "      <td>14</td>\n",
       "      <td>14</td>\n",
       "      <td>426500</td>\n",
       "      <td>72</td>\n",
       "      <td>128.279999</td>\n",
       "      <td>4</td>\n",
       "      <td>1.0</td>\n",
       "      <td>NaN</td>\n",
       "      <td>NaN</td>\n",
       "    </tr>\n",
       "    <tr>\n",
       "      <th>762</th>\n",
       "      <td>1121597</td>\n",
       "      <td>30/08/2017</td>\n",
       "      <td>30/08/2017</td>\n",
       "      <td>45-49</td>\n",
       "      <td>M</td>\n",
       "      <td>15</td>\n",
       "      <td>21</td>\n",
       "      <td>19</td>\n",
       "      <td>54237</td>\n",
       "      <td>7</td>\n",
       "      <td>10.780000</td>\n",
       "      <td>2</td>\n",
       "      <td>1.0</td>\n",
       "      <td>NaN</td>\n",
       "      <td>NaN</td>\n",
       "    </tr>\n",
       "    <tr>\n",
       "      <th>763</th>\n",
       "      <td>1121598</td>\n",
       "      <td>30/08/2017</td>\n",
       "      <td>30/08/2017</td>\n",
       "      <td>45-49</td>\n",
       "      <td>M</td>\n",
       "      <td>15</td>\n",
       "      <td>19</td>\n",
       "      <td>18</td>\n",
       "      <td>506916</td>\n",
       "      <td>89</td>\n",
       "      <td>133.699999</td>\n",
       "      <td>2</td>\n",
       "      <td>2.0</td>\n",
       "      <td>NaN</td>\n",
       "      <td>NaN</td>\n",
       "    </tr>\n",
       "    <tr>\n",
       "      <th>764</th>\n",
       "      <td>1121599</td>\n",
       "      <td>30/08/2017</td>\n",
       "      <td>30/08/2017</td>\n",
       "      <td>45-49</td>\n",
       "      <td>M</td>\n",
       "      <td>15</td>\n",
       "      <td>17</td>\n",
       "      <td>18</td>\n",
       "      <td>250960</td>\n",
       "      <td>42</td>\n",
       "      <td>64.880000</td>\n",
       "      <td>2</td>\n",
       "      <td>0.0</td>\n",
       "      <td>NaN</td>\n",
       "      <td>NaN</td>\n",
       "    </tr>\n",
       "    <tr>\n",
       "      <th>765</th>\n",
       "      <td>1121601</td>\n",
       "      <td>30/08/2017</td>\n",
       "      <td>30/08/2017</td>\n",
       "      <td>45-49</td>\n",
       "      <td>M</td>\n",
       "      <td>16</td>\n",
       "      <td>20</td>\n",
       "      <td>18</td>\n",
       "      <td>2286228</td>\n",
       "      <td>353</td>\n",
       "      <td>603.380002</td>\n",
       "      <td>16</td>\n",
       "      <td>7.0</td>\n",
       "      <td>NaN</td>\n",
       "      <td>NaN</td>\n",
       "    </tr>\n",
       "    <tr>\n",
       "      <th>...</th>\n",
       "      <td>...</td>\n",
       "      <td>...</td>\n",
       "      <td>...</td>\n",
       "      <td>...</td>\n",
       "      <td>...</td>\n",
       "      <td>...</td>\n",
       "      <td>...</td>\n",
       "      <td>...</td>\n",
       "      <td>...</td>\n",
       "      <td>...</td>\n",
       "      <td>...</td>\n",
       "      <td>...</td>\n",
       "      <td>...</td>\n",
       "      <td>...</td>\n",
       "      <td>...</td>\n",
       "    </tr>\n",
       "    <tr>\n",
       "      <th>1138</th>\n",
       "      <td>1314410</td>\n",
       "      <td>19/08/2017</td>\n",
       "      <td>19/08/2017</td>\n",
       "      <td>45-49</td>\n",
       "      <td>F</td>\n",
       "      <td>109</td>\n",
       "      <td>111</td>\n",
       "      <td>114</td>\n",
       "      <td>1129773</td>\n",
       "      <td>252</td>\n",
       "      <td>358.189997</td>\n",
       "      <td>13</td>\n",
       "      <td>2.0</td>\n",
       "      <td>NaN</td>\n",
       "      <td>NaN</td>\n",
       "    </tr>\n",
       "    <tr>\n",
       "      <th>1139</th>\n",
       "      <td>1314411</td>\n",
       "      <td>19/08/2017</td>\n",
       "      <td>19/08/2017</td>\n",
       "      <td>45-49</td>\n",
       "      <td>F</td>\n",
       "      <td>110</td>\n",
       "      <td>111</td>\n",
       "      <td>116</td>\n",
       "      <td>637549</td>\n",
       "      <td>120</td>\n",
       "      <td>173.880003</td>\n",
       "      <td>3</td>\n",
       "      <td>0.0</td>\n",
       "      <td>NaN</td>\n",
       "      <td>NaN</td>\n",
       "    </tr>\n",
       "    <tr>\n",
       "      <th>1140</th>\n",
       "      <td>1314412</td>\n",
       "      <td>19/08/2017</td>\n",
       "      <td>19/08/2017</td>\n",
       "      <td>45-49</td>\n",
       "      <td>F</td>\n",
       "      <td>111</td>\n",
       "      <td>113</td>\n",
       "      <td>117</td>\n",
       "      <td>151531</td>\n",
       "      <td>28</td>\n",
       "      <td>40.289999</td>\n",
       "      <td>2</td>\n",
       "      <td>0.0</td>\n",
       "      <td>NaN</td>\n",
       "      <td>NaN</td>\n",
       "    </tr>\n",
       "    <tr>\n",
       "      <th>1141</th>\n",
       "      <td>1314414</td>\n",
       "      <td>17/08/2017</td>\n",
       "      <td>17/08/2017</td>\n",
       "      <td>45-49</td>\n",
       "      <td>F</td>\n",
       "      <td>113</td>\n",
       "      <td>114</td>\n",
       "      <td>117</td>\n",
       "      <td>790253</td>\n",
       "      <td>135</td>\n",
       "      <td>198.710001</td>\n",
       "      <td>8</td>\n",
       "      <td>2.0</td>\n",
       "      <td>NaN</td>\n",
       "      <td>NaN</td>\n",
       "    </tr>\n",
       "    <tr>\n",
       "      <th>1142</th>\n",
       "      <td>1314415</td>\n",
       "      <td>17/08/2017</td>\n",
       "      <td>17/08/2017</td>\n",
       "      <td>45-49</td>\n",
       "      <td>F</td>\n",
       "      <td>114</td>\n",
       "      <td>116</td>\n",
       "      <td>118</td>\n",
       "      <td>513161</td>\n",
       "      <td>114</td>\n",
       "      <td>165.609999</td>\n",
       "      <td>5</td>\n",
       "      <td>2.0</td>\n",
       "      <td>NaN</td>\n",
       "      <td>NaN</td>\n",
       "    </tr>\n",
       "  </tbody>\n",
       "</table>\n",
       "<p>382 rows × 15 columns</p>\n",
       "</div>"
      ],
      "text/plain": [
       "        ad_id reporting_start reporting_end campaign_id fb_campaign_id  age  \\\n",
       "761   1121594      26/08/2017    26/08/2017       45-49              M   10   \n",
       "762   1121597      30/08/2017    30/08/2017       45-49              M   15   \n",
       "763   1121598      30/08/2017    30/08/2017       45-49              M   15   \n",
       "764   1121599      30/08/2017    30/08/2017       45-49              M   15   \n",
       "765   1121601      30/08/2017    30/08/2017       45-49              M   16   \n",
       "...       ...             ...           ...         ...            ...  ...   \n",
       "1138  1314410      19/08/2017    19/08/2017       45-49              F  109   \n",
       "1139  1314411      19/08/2017    19/08/2017       45-49              F  110   \n",
       "1140  1314412      19/08/2017    19/08/2017       45-49              F  111   \n",
       "1141  1314414      17/08/2017    17/08/2017       45-49              F  113   \n",
       "1142  1314415      17/08/2017    17/08/2017       45-49              F  114   \n",
       "\n",
       "     gender  interest1  interest2  interest3  impressions  clicks  spent  \\\n",
       "761      14         14     426500         72   128.279999       4    1.0   \n",
       "762      21         19      54237          7    10.780000       2    1.0   \n",
       "763      19         18     506916         89   133.699999       2    2.0   \n",
       "764      17         18     250960         42    64.880000       2    0.0   \n",
       "765      20         18    2286228        353   603.380002      16    7.0   \n",
       "...     ...        ...        ...        ...          ...     ...    ...   \n",
       "1138    111        114    1129773        252   358.189997      13    2.0   \n",
       "1139    111        116     637549        120   173.880003       3    0.0   \n",
       "1140    113        117     151531         28    40.289999       2    0.0   \n",
       "1141    114        117     790253        135   198.710001       8    2.0   \n",
       "1142    116        118     513161        114   165.609999       5    2.0   \n",
       "\n",
       "      total_conversion  approved_conversion  \n",
       "761                NaN                  NaN  \n",
       "762                NaN                  NaN  \n",
       "763                NaN                  NaN  \n",
       "764                NaN                  NaN  \n",
       "765                NaN                  NaN  \n",
       "...                ...                  ...  \n",
       "1138               NaN                  NaN  \n",
       "1139               NaN                  NaN  \n",
       "1140               NaN                  NaN  \n",
       "1141               NaN                  NaN  \n",
       "1142               NaN                  NaN  \n",
       "\n",
       "[382 rows x 15 columns]"
      ]
     },
     "execution_count": 3,
     "metadata": {},
     "output_type": "execute_result"
    }
   ],
   "source": [
    "df[df['total_conversion'].isna()]"
   ]
  },
  {
   "cell_type": "code",
   "execution_count": 35,
   "metadata": {},
   "outputs": [
    {
     "name": "stderr",
     "output_type": "stream",
     "text": [
      "/var/folders/qn/rny7mnyd7kjfxx12b0m00v380000gn/T/ipykernel_39270/748553537.py:5: FutureWarning:\n",
      "\n",
      "Setting an item of incompatible dtype is deprecated and will raise an error in a future version of pandas. Value '['10' '15' '15' '15' '16' '16' '16' '16' '16' '18' '18' '18' '19' '19'\n",
      " '19' '19' '20' '20' '20' '20' '20' '21' '21' '21' '22' '23' '23' '23'\n",
      " '24' '25' '25' '26' '27' '27' '27' '27' '27' '28' '28' '28' '28' '28'\n",
      " '29' '29' '29' '29' '29' '29' '31' '31' '31' '32' '32' '32' '32' '36'\n",
      " '63' '63' '63' '64' '65' '2' '66' '10' '10' '15' '15' '15' '16' '16' '16'\n",
      " '16' '16' '18' '18' '18' '19' '19' '19' '19' '19' '20' '20' '20' '21'\n",
      " '21' '21' '21' '22' '22' '23' '24' '24' '24' '24' '25' '26' '26' '27'\n",
      " '27' '27' '27' '28' '28' '28' '28' '29' '29' '29' '29' '30' '30' '30'\n",
      " '31' '31' '32' '32' '32' '32' '32' '36' '63' '63' '63' '63' '64' '64'\n",
      " '64' '64' '64' '65' '65' '2' '2' '2' '2' '7' '7' '7' '66' '10' '10' '10'\n",
      " '10' '15' '15' '16' '16' '16' '16' '16' '16' '18' '19' '19' '21' '21'\n",
      " '22' '22' '22' '22' '24' '24' '25' '25' '25' '26' '26' '27' '27' '28'\n",
      " '29' '29' '29' '30' '32' '63' '63' '63' '63' '63' '64' '64' '2' '7' '10'\n",
      " '10' '10' '10' '10' '15' '16' '16' '16' '16' '18' '21' '21' '21' '22'\n",
      " '23' '23' '25' '25' '25' '26' '26' '26' '27' '27' '28' '28' '28' '29'\n",
      " '29' '30' '31' '31' '31' '32' '32' '36' '63' '63' '64' '65' '65' '2' '7'\n",
      " '7' '66' '10' '10' '10' '10' '15' '15' '16' '16' '16' '16' '16' '18' '18'\n",
      " '18' '18' '19' '19' '19' '20' '20' '21' '21' '22' '22' '23' '24' '24'\n",
      " '25' '25' '25' '26' '26' '26' '27' '27' '27' '28' '28' '28' '28' '29'\n",
      " '29' '29' '29' '30' '30' '31' '31' '63' '63' '63' '64' '64' '64' '64'\n",
      " '65' '100' '101' '102' '103' '105' '107' '110' '111' '112' '113' '101'\n",
      " '102' '103' '105' '107' '108' '109' '110' '112' '113' '114' '100' '101'\n",
      " '104' '105' '106' '107' '108' '110' '111' '112' '113' '100' '102' '104'\n",
      " '105' '107' '108' '109' '110' '112' '113' '114' '101' '102' '103' '104'\n",
      " '105' '106' '107' '108' '109' '110' '111' '112' '100' '101' '102' '106'\n",
      " '107' '108' '109' '110' '111' '112' '113' '114' '100' '101' '102' '103'\n",
      " '104' '105' '106' '107' '108' '109' '110' '111' '112' '114' '100' '101'\n",
      " '102' '103' '104' '105' '106' '107' '108' '109' '110' '111' '113' '114']' has dtype incompatible with int64, please explicitly cast to a compatible dtype first.\n",
      "\n",
      "/var/folders/qn/rny7mnyd7kjfxx12b0m00v380000gn/T/ipykernel_39270/748553537.py:5: FutureWarning:\n",
      "\n",
      "Setting an item of incompatible dtype is deprecated and will raise an error in a future version of pandas. Value '['14' '21' '19' '17' '20' '21' '21' '20' '22' '24' '19' '19' '25' '21'\n",
      " '23' '23' '22' '21' '22' '24' '26' '27' '25' '24' '24' '28' '29' '26'\n",
      " '26' '26' '30' '30' '33' '28' '31' '31' '31' '31' '30' '33' '29' '32'\n",
      " '34' '30' '34' '32' '35' '33' '36' '37' '37' '34' '34' '35' '34' '38'\n",
      " '68' '64' '65' '69' '67' '5' '71' '13' '14' '19' '17' '17' '17' '20' '17'\n",
      " '20' '18' '19' '21' '21' '22' '22' '24' '20' '20' '26' '22' '22' '24'\n",
      " '23' '27' '25' '23' '27' '25' '30' '29' '28' '26' '31' '31' '30' '33'\n",
      " '28' '33' '30' '31' '31' '34' '29' '35' '31' '31' '33' '35' '36' '36'\n",
      " '35' '33' '38' '38' '38' '34' '37' '38' '65' '67' '64' '65' '67' '67'\n",
      " '66' '67' '69' '69' '69' '8' '6' '8' '6' '10' '8' '8' '72' '15' '16' '15'\n",
      " '14' '21' '18' '17' '17' '18' '21' '17' '21' '22' '22' '23' '27' '27'\n",
      " '26' '24' '25' '26' '25' '27' '27' '29' '30' '28' '31' '30' '32' '31'\n",
      " '31' '34' '32' '34' '33' '69' '65' '65' '68' '65' '70' '67' '4' '9' '12'\n",
      " '15' '13' '13' '16' '18' '20' '20' '22' '19' '19' '25' '27' '24' '26'\n",
      " '25' '25' '26' '30' '26' '28' '30' '27' '31' '33' '31' '30' '30' '34'\n",
      " '32' '32' '32' '36' '35' '35' '38' '41' '66' '69' '69' '68' '66' '6' '10'\n",
      " '10' '71' '16' '16' '16' '11' '16' '16' '19' '20' '22' '21' '20' '19'\n",
      " '21' '24' '23' '24' '23' '24' '23' '24' '22' '27' '24' '24' '26' '26'\n",
      " '28' '29' '27' '31' '29' '28' '32' '29' '30' '31' '29' '31' '34' '29'\n",
      " '32' '33' '34' '30' '33' '31' '32' '32' '67' '64' '64' '66' '69' '70'\n",
      " '70' '67' '106' '106' '104' '107' '108' '108' '112' '112' '117' '116'\n",
      " '105' '104' '104' '107' '110' '113' '113' '112' '117' '116' '117' '104'\n",
      " '107' '108' '107' '110' '113' '110' '116' '112' '113' '114' '105' '107'\n",
      " '105' '109' '113' '113' '115' '114' '114' '116' '117' '102' '103' '109'\n",
      " '105' '111' '109' '109' '111' '110' '114' '113' '114' '103' '107' '106'\n",
      " '111' '111' '110' '114' '111' '114' '116' '115' '115' '102' '105' '103'\n",
      " '104' '107' '109' '107' '108' '113' '115' '116' '116' '115' '118' '106'\n",
      " '105' '104' '105' '107' '106' '112' '113' '112' '111' '111' '113' '114'\n",
      " '116']' has dtype incompatible with int64, please explicitly cast to a compatible dtype first.\n",
      "\n"
     ]
    }
   ],
   "source": [
    "# Identify the rows where 'total_conversion' is NaN\n",
    "mask = df['total_conversion'].isna()\n",
    "\n",
    "# Shift the data in these rows to the left by two places\n",
    "df.loc[mask, 'campaign_id':'approved_conversion'] = df.loc[mask, 'campaign_id':'approved_conversion'].shift(2, axis=1)"
   ]
  },
  {
   "cell_type": "code",
   "execution_count": 36,
   "metadata": {},
   "outputs": [
    {
     "data": {
      "text/html": [
       "<div>\n",
       "<style scoped>\n",
       "    .dataframe tbody tr th:only-of-type {\n",
       "        vertical-align: middle;\n",
       "    }\n",
       "\n",
       "    .dataframe tbody tr th {\n",
       "        vertical-align: top;\n",
       "    }\n",
       "\n",
       "    .dataframe thead th {\n",
       "        text-align: right;\n",
       "    }\n",
       "</style>\n",
       "<table border=\"1\" class=\"dataframe\">\n",
       "  <thead>\n",
       "    <tr style=\"text-align: right;\">\n",
       "      <th></th>\n",
       "      <th>ad_id</th>\n",
       "      <th>reporting_start</th>\n",
       "      <th>reporting_end</th>\n",
       "      <th>campaign_id</th>\n",
       "      <th>fb_campaign_id</th>\n",
       "      <th>age</th>\n",
       "      <th>gender</th>\n",
       "      <th>interest1</th>\n",
       "      <th>interest2</th>\n",
       "      <th>interest3</th>\n",
       "      <th>impressions</th>\n",
       "      <th>clicks</th>\n",
       "      <th>spent</th>\n",
       "      <th>total_conversion</th>\n",
       "      <th>approved_conversion</th>\n",
       "    </tr>\n",
       "  </thead>\n",
       "  <tbody>\n",
       "    <tr>\n",
       "      <th>761</th>\n",
       "      <td>1121594</td>\n",
       "      <td>26/08/2017</td>\n",
       "      <td>26/08/2017</td>\n",
       "      <td>None</td>\n",
       "      <td>None</td>\n",
       "      <td>45-49</td>\n",
       "      <td>M</td>\n",
       "      <td>10</td>\n",
       "      <td>14</td>\n",
       "      <td>14</td>\n",
       "      <td>426500.0</td>\n",
       "      <td>72</td>\n",
       "      <td>128.279999</td>\n",
       "      <td>4.0</td>\n",
       "      <td>1.0</td>\n",
       "    </tr>\n",
       "    <tr>\n",
       "      <th>762</th>\n",
       "      <td>1121597</td>\n",
       "      <td>30/08/2017</td>\n",
       "      <td>30/08/2017</td>\n",
       "      <td>None</td>\n",
       "      <td>None</td>\n",
       "      <td>45-49</td>\n",
       "      <td>M</td>\n",
       "      <td>15</td>\n",
       "      <td>21</td>\n",
       "      <td>19</td>\n",
       "      <td>54237.0</td>\n",
       "      <td>7</td>\n",
       "      <td>10.780000</td>\n",
       "      <td>2.0</td>\n",
       "      <td>1.0</td>\n",
       "    </tr>\n",
       "    <tr>\n",
       "      <th>763</th>\n",
       "      <td>1121598</td>\n",
       "      <td>30/08/2017</td>\n",
       "      <td>30/08/2017</td>\n",
       "      <td>None</td>\n",
       "      <td>None</td>\n",
       "      <td>45-49</td>\n",
       "      <td>M</td>\n",
       "      <td>15</td>\n",
       "      <td>19</td>\n",
       "      <td>18</td>\n",
       "      <td>506916.0</td>\n",
       "      <td>89</td>\n",
       "      <td>133.699999</td>\n",
       "      <td>2.0</td>\n",
       "      <td>2.0</td>\n",
       "    </tr>\n",
       "    <tr>\n",
       "      <th>764</th>\n",
       "      <td>1121599</td>\n",
       "      <td>30/08/2017</td>\n",
       "      <td>30/08/2017</td>\n",
       "      <td>None</td>\n",
       "      <td>None</td>\n",
       "      <td>45-49</td>\n",
       "      <td>M</td>\n",
       "      <td>15</td>\n",
       "      <td>17</td>\n",
       "      <td>18</td>\n",
       "      <td>250960.0</td>\n",
       "      <td>42</td>\n",
       "      <td>64.880000</td>\n",
       "      <td>2.0</td>\n",
       "      <td>0.0</td>\n",
       "    </tr>\n",
       "    <tr>\n",
       "      <th>765</th>\n",
       "      <td>1121601</td>\n",
       "      <td>30/08/2017</td>\n",
       "      <td>30/08/2017</td>\n",
       "      <td>None</td>\n",
       "      <td>None</td>\n",
       "      <td>45-49</td>\n",
       "      <td>M</td>\n",
       "      <td>16</td>\n",
       "      <td>20</td>\n",
       "      <td>18</td>\n",
       "      <td>2286228.0</td>\n",
       "      <td>353</td>\n",
       "      <td>603.380002</td>\n",
       "      <td>16.0</td>\n",
       "      <td>7.0</td>\n",
       "    </tr>\n",
       "    <tr>\n",
       "      <th>...</th>\n",
       "      <td>...</td>\n",
       "      <td>...</td>\n",
       "      <td>...</td>\n",
       "      <td>...</td>\n",
       "      <td>...</td>\n",
       "      <td>...</td>\n",
       "      <td>...</td>\n",
       "      <td>...</td>\n",
       "      <td>...</td>\n",
       "      <td>...</td>\n",
       "      <td>...</td>\n",
       "      <td>...</td>\n",
       "      <td>...</td>\n",
       "      <td>...</td>\n",
       "      <td>...</td>\n",
       "    </tr>\n",
       "    <tr>\n",
       "      <th>1138</th>\n",
       "      <td>1314410</td>\n",
       "      <td>19/08/2017</td>\n",
       "      <td>19/08/2017</td>\n",
       "      <td>None</td>\n",
       "      <td>None</td>\n",
       "      <td>45-49</td>\n",
       "      <td>F</td>\n",
       "      <td>109</td>\n",
       "      <td>111</td>\n",
       "      <td>114</td>\n",
       "      <td>1129773.0</td>\n",
       "      <td>252</td>\n",
       "      <td>358.189997</td>\n",
       "      <td>13.0</td>\n",
       "      <td>2.0</td>\n",
       "    </tr>\n",
       "    <tr>\n",
       "      <th>1139</th>\n",
       "      <td>1314411</td>\n",
       "      <td>19/08/2017</td>\n",
       "      <td>19/08/2017</td>\n",
       "      <td>None</td>\n",
       "      <td>None</td>\n",
       "      <td>45-49</td>\n",
       "      <td>F</td>\n",
       "      <td>110</td>\n",
       "      <td>111</td>\n",
       "      <td>116</td>\n",
       "      <td>637549.0</td>\n",
       "      <td>120</td>\n",
       "      <td>173.880003</td>\n",
       "      <td>3.0</td>\n",
       "      <td>0.0</td>\n",
       "    </tr>\n",
       "    <tr>\n",
       "      <th>1140</th>\n",
       "      <td>1314412</td>\n",
       "      <td>19/08/2017</td>\n",
       "      <td>19/08/2017</td>\n",
       "      <td>None</td>\n",
       "      <td>None</td>\n",
       "      <td>45-49</td>\n",
       "      <td>F</td>\n",
       "      <td>111</td>\n",
       "      <td>113</td>\n",
       "      <td>117</td>\n",
       "      <td>151531.0</td>\n",
       "      <td>28</td>\n",
       "      <td>40.289999</td>\n",
       "      <td>2.0</td>\n",
       "      <td>0.0</td>\n",
       "    </tr>\n",
       "    <tr>\n",
       "      <th>1141</th>\n",
       "      <td>1314414</td>\n",
       "      <td>17/08/2017</td>\n",
       "      <td>17/08/2017</td>\n",
       "      <td>None</td>\n",
       "      <td>None</td>\n",
       "      <td>45-49</td>\n",
       "      <td>F</td>\n",
       "      <td>113</td>\n",
       "      <td>114</td>\n",
       "      <td>117</td>\n",
       "      <td>790253.0</td>\n",
       "      <td>135</td>\n",
       "      <td>198.710001</td>\n",
       "      <td>8.0</td>\n",
       "      <td>2.0</td>\n",
       "    </tr>\n",
       "    <tr>\n",
       "      <th>1142</th>\n",
       "      <td>1314415</td>\n",
       "      <td>17/08/2017</td>\n",
       "      <td>17/08/2017</td>\n",
       "      <td>None</td>\n",
       "      <td>None</td>\n",
       "      <td>45-49</td>\n",
       "      <td>F</td>\n",
       "      <td>114</td>\n",
       "      <td>116</td>\n",
       "      <td>118</td>\n",
       "      <td>513161.0</td>\n",
       "      <td>114</td>\n",
       "      <td>165.609999</td>\n",
       "      <td>5.0</td>\n",
       "      <td>2.0</td>\n",
       "    </tr>\n",
       "  </tbody>\n",
       "</table>\n",
       "<p>382 rows × 15 columns</p>\n",
       "</div>"
      ],
      "text/plain": [
       "        ad_id reporting_start reporting_end campaign_id fb_campaign_id    age  \\\n",
       "761   1121594      26/08/2017    26/08/2017        None           None  45-49   \n",
       "762   1121597      30/08/2017    30/08/2017        None           None  45-49   \n",
       "763   1121598      30/08/2017    30/08/2017        None           None  45-49   \n",
       "764   1121599      30/08/2017    30/08/2017        None           None  45-49   \n",
       "765   1121601      30/08/2017    30/08/2017        None           None  45-49   \n",
       "...       ...             ...           ...         ...            ...    ...   \n",
       "1138  1314410      19/08/2017    19/08/2017        None           None  45-49   \n",
       "1139  1314411      19/08/2017    19/08/2017        None           None  45-49   \n",
       "1140  1314412      19/08/2017    19/08/2017        None           None  45-49   \n",
       "1141  1314414      17/08/2017    17/08/2017        None           None  45-49   \n",
       "1142  1314415      17/08/2017    17/08/2017        None           None  45-49   \n",
       "\n",
       "     gender interest1 interest2  interest3  impressions  clicks       spent  \\\n",
       "761       M        10        14         14     426500.0      72  128.279999   \n",
       "762       M        15        21         19      54237.0       7   10.780000   \n",
       "763       M        15        19         18     506916.0      89  133.699999   \n",
       "764       M        15        17         18     250960.0      42   64.880000   \n",
       "765       M        16        20         18    2286228.0     353  603.380002   \n",
       "...     ...       ...       ...        ...          ...     ...         ...   \n",
       "1138      F       109       111        114    1129773.0     252  358.189997   \n",
       "1139      F       110       111        116     637549.0     120  173.880003   \n",
       "1140      F       111       113        117     151531.0      28   40.289999   \n",
       "1141      F       113       114        117     790253.0     135  198.710001   \n",
       "1142      F       114       116        118     513161.0     114  165.609999   \n",
       "\n",
       "      total_conversion  approved_conversion  \n",
       "761                4.0                  1.0  \n",
       "762                2.0                  1.0  \n",
       "763                2.0                  2.0  \n",
       "764                2.0                  0.0  \n",
       "765               16.0                  7.0  \n",
       "...                ...                  ...  \n",
       "1138              13.0                  2.0  \n",
       "1139               3.0                  0.0  \n",
       "1140               2.0                  0.0  \n",
       "1141               8.0                  2.0  \n",
       "1142               5.0                  2.0  \n",
       "\n",
       "[382 rows x 15 columns]"
      ]
     },
     "execution_count": 36,
     "metadata": {},
     "output_type": "execute_result"
    }
   ],
   "source": [
    "df[df['campaign_id'].isna()]"
   ]
  },
  {
   "cell_type": "code",
   "execution_count": 37,
   "metadata": {},
   "outputs": [
    {
     "name": "stderr",
     "output_type": "stream",
     "text": [
      "/var/folders/qn/rny7mnyd7kjfxx12b0m00v380000gn/T/ipykernel_39270/4044493297.py:2: FutureWarning:\n",
      "\n",
      "A value is trying to be set on a copy of a DataFrame or Series through chained assignment using an inplace method.\n",
      "The behavior will change in pandas 3.0. This inplace method will never work because the intermediate object on which we are setting values always behaves as a copy.\n",
      "\n",
      "For example, when doing 'df[col].method(value, inplace=True)', try using 'df.method({col: value}, inplace=True)' or df[col] = df[col].method(value) instead, to perform the operation inplace on the original object.\n",
      "\n",
      "\n",
      "\n",
      "/var/folders/qn/rny7mnyd7kjfxx12b0m00v380000gn/T/ipykernel_39270/4044493297.py:3: FutureWarning:\n",
      "\n",
      "A value is trying to be set on a copy of a DataFrame or Series through chained assignment using an inplace method.\n",
      "The behavior will change in pandas 3.0. This inplace method will never work because the intermediate object on which we are setting values always behaves as a copy.\n",
      "\n",
      "For example, when doing 'df[col].method(value, inplace=True)', try using 'df.method({col: value}, inplace=True)' or df[col] = df[col].method(value) instead, to perform the operation inplace on the original object.\n",
      "\n",
      "\n",
      "\n"
     ]
    }
   ],
   "source": [
    "# Fill NaNs in 'campaign_id' and 'fb_campaign_id' with 'blank_id'\n",
    "df['campaign_id'].fillna('blank_id', inplace=True)\n",
    "df['fb_campaign_id'].fillna('blank_id', inplace=True)"
   ]
  },
  {
   "cell_type": "code",
   "execution_count": 38,
   "metadata": {},
   "outputs": [
    {
     "data": {
      "text/html": [
       "<div>\n",
       "<style scoped>\n",
       "    .dataframe tbody tr th:only-of-type {\n",
       "        vertical-align: middle;\n",
       "    }\n",
       "\n",
       "    .dataframe tbody tr th {\n",
       "        vertical-align: top;\n",
       "    }\n",
       "\n",
       "    .dataframe thead th {\n",
       "        text-align: right;\n",
       "    }\n",
       "</style>\n",
       "<table border=\"1\" class=\"dataframe\">\n",
       "  <thead>\n",
       "    <tr style=\"text-align: right;\">\n",
       "      <th></th>\n",
       "      <th>ad_id</th>\n",
       "      <th>reporting_start</th>\n",
       "      <th>reporting_end</th>\n",
       "      <th>campaign_id</th>\n",
       "      <th>fb_campaign_id</th>\n",
       "      <th>age</th>\n",
       "      <th>gender</th>\n",
       "      <th>interest1</th>\n",
       "      <th>interest2</th>\n",
       "      <th>interest3</th>\n",
       "      <th>impressions</th>\n",
       "      <th>clicks</th>\n",
       "      <th>spent</th>\n",
       "      <th>total_conversion</th>\n",
       "      <th>approved_conversion</th>\n",
       "    </tr>\n",
       "  </thead>\n",
       "  <tbody>\n",
       "    <tr>\n",
       "      <th>761</th>\n",
       "      <td>1121594</td>\n",
       "      <td>26/08/2017</td>\n",
       "      <td>26/08/2017</td>\n",
       "      <td>blank_id</td>\n",
       "      <td>blank_id</td>\n",
       "      <td>45-49</td>\n",
       "      <td>M</td>\n",
       "      <td>10</td>\n",
       "      <td>14</td>\n",
       "      <td>14</td>\n",
       "      <td>426500.0</td>\n",
       "      <td>72</td>\n",
       "      <td>128.279999</td>\n",
       "      <td>4.0</td>\n",
       "      <td>1.0</td>\n",
       "    </tr>\n",
       "    <tr>\n",
       "      <th>762</th>\n",
       "      <td>1121597</td>\n",
       "      <td>30/08/2017</td>\n",
       "      <td>30/08/2017</td>\n",
       "      <td>blank_id</td>\n",
       "      <td>blank_id</td>\n",
       "      <td>45-49</td>\n",
       "      <td>M</td>\n",
       "      <td>15</td>\n",
       "      <td>21</td>\n",
       "      <td>19</td>\n",
       "      <td>54237.0</td>\n",
       "      <td>7</td>\n",
       "      <td>10.780000</td>\n",
       "      <td>2.0</td>\n",
       "      <td>1.0</td>\n",
       "    </tr>\n",
       "    <tr>\n",
       "      <th>763</th>\n",
       "      <td>1121598</td>\n",
       "      <td>30/08/2017</td>\n",
       "      <td>30/08/2017</td>\n",
       "      <td>blank_id</td>\n",
       "      <td>blank_id</td>\n",
       "      <td>45-49</td>\n",
       "      <td>M</td>\n",
       "      <td>15</td>\n",
       "      <td>19</td>\n",
       "      <td>18</td>\n",
       "      <td>506916.0</td>\n",
       "      <td>89</td>\n",
       "      <td>133.699999</td>\n",
       "      <td>2.0</td>\n",
       "      <td>2.0</td>\n",
       "    </tr>\n",
       "    <tr>\n",
       "      <th>764</th>\n",
       "      <td>1121599</td>\n",
       "      <td>30/08/2017</td>\n",
       "      <td>30/08/2017</td>\n",
       "      <td>blank_id</td>\n",
       "      <td>blank_id</td>\n",
       "      <td>45-49</td>\n",
       "      <td>M</td>\n",
       "      <td>15</td>\n",
       "      <td>17</td>\n",
       "      <td>18</td>\n",
       "      <td>250960.0</td>\n",
       "      <td>42</td>\n",
       "      <td>64.880000</td>\n",
       "      <td>2.0</td>\n",
       "      <td>0.0</td>\n",
       "    </tr>\n",
       "    <tr>\n",
       "      <th>765</th>\n",
       "      <td>1121601</td>\n",
       "      <td>30/08/2017</td>\n",
       "      <td>30/08/2017</td>\n",
       "      <td>blank_id</td>\n",
       "      <td>blank_id</td>\n",
       "      <td>45-49</td>\n",
       "      <td>M</td>\n",
       "      <td>16</td>\n",
       "      <td>20</td>\n",
       "      <td>18</td>\n",
       "      <td>2286228.0</td>\n",
       "      <td>353</td>\n",
       "      <td>603.380002</td>\n",
       "      <td>16.0</td>\n",
       "      <td>7.0</td>\n",
       "    </tr>\n",
       "    <tr>\n",
       "      <th>...</th>\n",
       "      <td>...</td>\n",
       "      <td>...</td>\n",
       "      <td>...</td>\n",
       "      <td>...</td>\n",
       "      <td>...</td>\n",
       "      <td>...</td>\n",
       "      <td>...</td>\n",
       "      <td>...</td>\n",
       "      <td>...</td>\n",
       "      <td>...</td>\n",
       "      <td>...</td>\n",
       "      <td>...</td>\n",
       "      <td>...</td>\n",
       "      <td>...</td>\n",
       "      <td>...</td>\n",
       "    </tr>\n",
       "    <tr>\n",
       "      <th>1138</th>\n",
       "      <td>1314410</td>\n",
       "      <td>19/08/2017</td>\n",
       "      <td>19/08/2017</td>\n",
       "      <td>blank_id</td>\n",
       "      <td>blank_id</td>\n",
       "      <td>45-49</td>\n",
       "      <td>F</td>\n",
       "      <td>109</td>\n",
       "      <td>111</td>\n",
       "      <td>114</td>\n",
       "      <td>1129773.0</td>\n",
       "      <td>252</td>\n",
       "      <td>358.189997</td>\n",
       "      <td>13.0</td>\n",
       "      <td>2.0</td>\n",
       "    </tr>\n",
       "    <tr>\n",
       "      <th>1139</th>\n",
       "      <td>1314411</td>\n",
       "      <td>19/08/2017</td>\n",
       "      <td>19/08/2017</td>\n",
       "      <td>blank_id</td>\n",
       "      <td>blank_id</td>\n",
       "      <td>45-49</td>\n",
       "      <td>F</td>\n",
       "      <td>110</td>\n",
       "      <td>111</td>\n",
       "      <td>116</td>\n",
       "      <td>637549.0</td>\n",
       "      <td>120</td>\n",
       "      <td>173.880003</td>\n",
       "      <td>3.0</td>\n",
       "      <td>0.0</td>\n",
       "    </tr>\n",
       "    <tr>\n",
       "      <th>1140</th>\n",
       "      <td>1314412</td>\n",
       "      <td>19/08/2017</td>\n",
       "      <td>19/08/2017</td>\n",
       "      <td>blank_id</td>\n",
       "      <td>blank_id</td>\n",
       "      <td>45-49</td>\n",
       "      <td>F</td>\n",
       "      <td>111</td>\n",
       "      <td>113</td>\n",
       "      <td>117</td>\n",
       "      <td>151531.0</td>\n",
       "      <td>28</td>\n",
       "      <td>40.289999</td>\n",
       "      <td>2.0</td>\n",
       "      <td>0.0</td>\n",
       "    </tr>\n",
       "    <tr>\n",
       "      <th>1141</th>\n",
       "      <td>1314414</td>\n",
       "      <td>17/08/2017</td>\n",
       "      <td>17/08/2017</td>\n",
       "      <td>blank_id</td>\n",
       "      <td>blank_id</td>\n",
       "      <td>45-49</td>\n",
       "      <td>F</td>\n",
       "      <td>113</td>\n",
       "      <td>114</td>\n",
       "      <td>117</td>\n",
       "      <td>790253.0</td>\n",
       "      <td>135</td>\n",
       "      <td>198.710001</td>\n",
       "      <td>8.0</td>\n",
       "      <td>2.0</td>\n",
       "    </tr>\n",
       "    <tr>\n",
       "      <th>1142</th>\n",
       "      <td>1314415</td>\n",
       "      <td>17/08/2017</td>\n",
       "      <td>17/08/2017</td>\n",
       "      <td>blank_id</td>\n",
       "      <td>blank_id</td>\n",
       "      <td>45-49</td>\n",
       "      <td>F</td>\n",
       "      <td>114</td>\n",
       "      <td>116</td>\n",
       "      <td>118</td>\n",
       "      <td>513161.0</td>\n",
       "      <td>114</td>\n",
       "      <td>165.609999</td>\n",
       "      <td>5.0</td>\n",
       "      <td>2.0</td>\n",
       "    </tr>\n",
       "  </tbody>\n",
       "</table>\n",
       "<p>382 rows × 15 columns</p>\n",
       "</div>"
      ],
      "text/plain": [
       "        ad_id reporting_start reporting_end campaign_id fb_campaign_id    age  \\\n",
       "761   1121594      26/08/2017    26/08/2017    blank_id       blank_id  45-49   \n",
       "762   1121597      30/08/2017    30/08/2017    blank_id       blank_id  45-49   \n",
       "763   1121598      30/08/2017    30/08/2017    blank_id       blank_id  45-49   \n",
       "764   1121599      30/08/2017    30/08/2017    blank_id       blank_id  45-49   \n",
       "765   1121601      30/08/2017    30/08/2017    blank_id       blank_id  45-49   \n",
       "...       ...             ...           ...         ...            ...    ...   \n",
       "1138  1314410      19/08/2017    19/08/2017    blank_id       blank_id  45-49   \n",
       "1139  1314411      19/08/2017    19/08/2017    blank_id       blank_id  45-49   \n",
       "1140  1314412      19/08/2017    19/08/2017    blank_id       blank_id  45-49   \n",
       "1141  1314414      17/08/2017    17/08/2017    blank_id       blank_id  45-49   \n",
       "1142  1314415      17/08/2017    17/08/2017    blank_id       blank_id  45-49   \n",
       "\n",
       "     gender interest1 interest2  interest3  impressions  clicks       spent  \\\n",
       "761       M        10        14         14     426500.0      72  128.279999   \n",
       "762       M        15        21         19      54237.0       7   10.780000   \n",
       "763       M        15        19         18     506916.0      89  133.699999   \n",
       "764       M        15        17         18     250960.0      42   64.880000   \n",
       "765       M        16        20         18    2286228.0     353  603.380002   \n",
       "...     ...       ...       ...        ...          ...     ...         ...   \n",
       "1138      F       109       111        114    1129773.0     252  358.189997   \n",
       "1139      F       110       111        116     637549.0     120  173.880003   \n",
       "1140      F       111       113        117     151531.0      28   40.289999   \n",
       "1141      F       113       114        117     790253.0     135  198.710001   \n",
       "1142      F       114       116        118     513161.0     114  165.609999   \n",
       "\n",
       "      total_conversion  approved_conversion  \n",
       "761                4.0                  1.0  \n",
       "762                2.0                  1.0  \n",
       "763                2.0                  2.0  \n",
       "764                2.0                  0.0  \n",
       "765               16.0                  7.0  \n",
       "...                ...                  ...  \n",
       "1138              13.0                  2.0  \n",
       "1139               3.0                  0.0  \n",
       "1140               2.0                  0.0  \n",
       "1141               8.0                  2.0  \n",
       "1142               5.0                  2.0  \n",
       "\n",
       "[382 rows x 15 columns]"
      ]
     },
     "execution_count": 38,
     "metadata": {},
     "output_type": "execute_result"
    }
   ],
   "source": [
    "df[df['campaign_id'] == 'blank_id']"
   ]
  },
  {
   "cell_type": "code",
   "execution_count": 39,
   "metadata": {},
   "outputs": [],
   "source": [
    "df['CTR'] = df['clicks'] / df['impressions']\n",
    "df['CPC'] = df['spent'] / df['clicks']\n",
    "df['CPM'] = df['spent'] / df['impressions'] * 1000\n",
    "df['CVR'] = df['approved_conversion'] / df['clicks']\n",
    "df['CPA'] = df['spent'] / df['approved_conversion']"
   ]
  },
  {
   "cell_type": "code",
   "execution_count": 40,
   "metadata": {},
   "outputs": [
    {
     "data": {
      "text/html": [
       "<div>\n",
       "<style scoped>\n",
       "    .dataframe tbody tr th:only-of-type {\n",
       "        vertical-align: middle;\n",
       "    }\n",
       "\n",
       "    .dataframe tbody tr th {\n",
       "        vertical-align: top;\n",
       "    }\n",
       "\n",
       "    .dataframe thead th {\n",
       "        text-align: right;\n",
       "    }\n",
       "</style>\n",
       "<table border=\"1\" class=\"dataframe\">\n",
       "  <thead>\n",
       "    <tr style=\"text-align: right;\">\n",
       "      <th></th>\n",
       "      <th>ad_id</th>\n",
       "      <th>reporting_start</th>\n",
       "      <th>reporting_end</th>\n",
       "      <th>campaign_id</th>\n",
       "      <th>fb_campaign_id</th>\n",
       "      <th>age</th>\n",
       "      <th>gender</th>\n",
       "      <th>interest1</th>\n",
       "      <th>interest2</th>\n",
       "      <th>interest3</th>\n",
       "      <th>impressions</th>\n",
       "      <th>clicks</th>\n",
       "      <th>spent</th>\n",
       "      <th>total_conversion</th>\n",
       "      <th>approved_conversion</th>\n",
       "      <th>CTR</th>\n",
       "      <th>CPC</th>\n",
       "      <th>CPM</th>\n",
       "      <th>CVR</th>\n",
       "      <th>CPA</th>\n",
       "    </tr>\n",
       "  </thead>\n",
       "  <tbody>\n",
       "    <tr>\n",
       "      <th>0</th>\n",
       "      <td>708746</td>\n",
       "      <td>17/08/2017</td>\n",
       "      <td>17/08/2017</td>\n",
       "      <td>916</td>\n",
       "      <td>103916</td>\n",
       "      <td>30-34</td>\n",
       "      <td>M</td>\n",
       "      <td>15</td>\n",
       "      <td>17</td>\n",
       "      <td>17</td>\n",
       "      <td>7350.0</td>\n",
       "      <td>1</td>\n",
       "      <td>1.430000</td>\n",
       "      <td>2.0</td>\n",
       "      <td>1.0</td>\n",
       "      <td>0.000136</td>\n",
       "      <td>1.430000</td>\n",
       "      <td>0.194558</td>\n",
       "      <td>1.000000</td>\n",
       "      <td>1.430000</td>\n",
       "    </tr>\n",
       "    <tr>\n",
       "      <th>1</th>\n",
       "      <td>708749</td>\n",
       "      <td>17/08/2017</td>\n",
       "      <td>17/08/2017</td>\n",
       "      <td>916</td>\n",
       "      <td>103917</td>\n",
       "      <td>30-34</td>\n",
       "      <td>M</td>\n",
       "      <td>16</td>\n",
       "      <td>19</td>\n",
       "      <td>21</td>\n",
       "      <td>17861.0</td>\n",
       "      <td>2</td>\n",
       "      <td>1.820000</td>\n",
       "      <td>2.0</td>\n",
       "      <td>0.0</td>\n",
       "      <td>0.000112</td>\n",
       "      <td>0.910000</td>\n",
       "      <td>0.101898</td>\n",
       "      <td>0.000000</td>\n",
       "      <td>inf</td>\n",
       "    </tr>\n",
       "    <tr>\n",
       "      <th>2</th>\n",
       "      <td>708771</td>\n",
       "      <td>17/08/2017</td>\n",
       "      <td>17/08/2017</td>\n",
       "      <td>916</td>\n",
       "      <td>103920</td>\n",
       "      <td>30-34</td>\n",
       "      <td>M</td>\n",
       "      <td>20</td>\n",
       "      <td>25</td>\n",
       "      <td>22</td>\n",
       "      <td>693.0</td>\n",
       "      <td>0</td>\n",
       "      <td>0.000000</td>\n",
       "      <td>1.0</td>\n",
       "      <td>0.0</td>\n",
       "      <td>0.000000</td>\n",
       "      <td>NaN</td>\n",
       "      <td>0.000000</td>\n",
       "      <td>NaN</td>\n",
       "      <td>NaN</td>\n",
       "    </tr>\n",
       "    <tr>\n",
       "      <th>3</th>\n",
       "      <td>708815</td>\n",
       "      <td>30/08/2017</td>\n",
       "      <td>30/08/2017</td>\n",
       "      <td>916</td>\n",
       "      <td>103928</td>\n",
       "      <td>30-34</td>\n",
       "      <td>M</td>\n",
       "      <td>28</td>\n",
       "      <td>32</td>\n",
       "      <td>32</td>\n",
       "      <td>4259.0</td>\n",
       "      <td>1</td>\n",
       "      <td>1.250000</td>\n",
       "      <td>1.0</td>\n",
       "      <td>0.0</td>\n",
       "      <td>0.000235</td>\n",
       "      <td>1.250000</td>\n",
       "      <td>0.293496</td>\n",
       "      <td>0.000000</td>\n",
       "      <td>inf</td>\n",
       "    </tr>\n",
       "    <tr>\n",
       "      <th>4</th>\n",
       "      <td>708818</td>\n",
       "      <td>17/08/2017</td>\n",
       "      <td>17/08/2017</td>\n",
       "      <td>916</td>\n",
       "      <td>103928</td>\n",
       "      <td>30-34</td>\n",
       "      <td>M</td>\n",
       "      <td>28</td>\n",
       "      <td>33</td>\n",
       "      <td>32</td>\n",
       "      <td>4133.0</td>\n",
       "      <td>1</td>\n",
       "      <td>1.290000</td>\n",
       "      <td>1.0</td>\n",
       "      <td>1.0</td>\n",
       "      <td>0.000242</td>\n",
       "      <td>1.290000</td>\n",
       "      <td>0.312122</td>\n",
       "      <td>1.000000</td>\n",
       "      <td>1.290000</td>\n",
       "    </tr>\n",
       "    <tr>\n",
       "      <th>...</th>\n",
       "      <td>...</td>\n",
       "      <td>...</td>\n",
       "      <td>...</td>\n",
       "      <td>...</td>\n",
       "      <td>...</td>\n",
       "      <td>...</td>\n",
       "      <td>...</td>\n",
       "      <td>...</td>\n",
       "      <td>...</td>\n",
       "      <td>...</td>\n",
       "      <td>...</td>\n",
       "      <td>...</td>\n",
       "      <td>...</td>\n",
       "      <td>...</td>\n",
       "      <td>...</td>\n",
       "      <td>...</td>\n",
       "      <td>...</td>\n",
       "      <td>...</td>\n",
       "      <td>...</td>\n",
       "      <td>...</td>\n",
       "    </tr>\n",
       "    <tr>\n",
       "      <th>1138</th>\n",
       "      <td>1314410</td>\n",
       "      <td>19/08/2017</td>\n",
       "      <td>19/08/2017</td>\n",
       "      <td>blank_id</td>\n",
       "      <td>blank_id</td>\n",
       "      <td>45-49</td>\n",
       "      <td>F</td>\n",
       "      <td>109</td>\n",
       "      <td>111</td>\n",
       "      <td>114</td>\n",
       "      <td>1129773.0</td>\n",
       "      <td>252</td>\n",
       "      <td>358.189997</td>\n",
       "      <td>13.0</td>\n",
       "      <td>2.0</td>\n",
       "      <td>0.000223</td>\n",
       "      <td>1.421389</td>\n",
       "      <td>0.317046</td>\n",
       "      <td>0.007937</td>\n",
       "      <td>179.094999</td>\n",
       "    </tr>\n",
       "    <tr>\n",
       "      <th>1139</th>\n",
       "      <td>1314411</td>\n",
       "      <td>19/08/2017</td>\n",
       "      <td>19/08/2017</td>\n",
       "      <td>blank_id</td>\n",
       "      <td>blank_id</td>\n",
       "      <td>45-49</td>\n",
       "      <td>F</td>\n",
       "      <td>110</td>\n",
       "      <td>111</td>\n",
       "      <td>116</td>\n",
       "      <td>637549.0</td>\n",
       "      <td>120</td>\n",
       "      <td>173.880003</td>\n",
       "      <td>3.0</td>\n",
       "      <td>0.0</td>\n",
       "      <td>0.000188</td>\n",
       "      <td>1.449000</td>\n",
       "      <td>0.272732</td>\n",
       "      <td>0.000000</td>\n",
       "      <td>inf</td>\n",
       "    </tr>\n",
       "    <tr>\n",
       "      <th>1140</th>\n",
       "      <td>1314412</td>\n",
       "      <td>19/08/2017</td>\n",
       "      <td>19/08/2017</td>\n",
       "      <td>blank_id</td>\n",
       "      <td>blank_id</td>\n",
       "      <td>45-49</td>\n",
       "      <td>F</td>\n",
       "      <td>111</td>\n",
       "      <td>113</td>\n",
       "      <td>117</td>\n",
       "      <td>151531.0</td>\n",
       "      <td>28</td>\n",
       "      <td>40.289999</td>\n",
       "      <td>2.0</td>\n",
       "      <td>0.0</td>\n",
       "      <td>0.000185</td>\n",
       "      <td>1.438929</td>\n",
       "      <td>0.265886</td>\n",
       "      <td>0.000000</td>\n",
       "      <td>inf</td>\n",
       "    </tr>\n",
       "    <tr>\n",
       "      <th>1141</th>\n",
       "      <td>1314414</td>\n",
       "      <td>17/08/2017</td>\n",
       "      <td>17/08/2017</td>\n",
       "      <td>blank_id</td>\n",
       "      <td>blank_id</td>\n",
       "      <td>45-49</td>\n",
       "      <td>F</td>\n",
       "      <td>113</td>\n",
       "      <td>114</td>\n",
       "      <td>117</td>\n",
       "      <td>790253.0</td>\n",
       "      <td>135</td>\n",
       "      <td>198.710001</td>\n",
       "      <td>8.0</td>\n",
       "      <td>2.0</td>\n",
       "      <td>0.000171</td>\n",
       "      <td>1.471926</td>\n",
       "      <td>0.251451</td>\n",
       "      <td>0.014815</td>\n",
       "      <td>99.355000</td>\n",
       "    </tr>\n",
       "    <tr>\n",
       "      <th>1142</th>\n",
       "      <td>1314415</td>\n",
       "      <td>17/08/2017</td>\n",
       "      <td>17/08/2017</td>\n",
       "      <td>blank_id</td>\n",
       "      <td>blank_id</td>\n",
       "      <td>45-49</td>\n",
       "      <td>F</td>\n",
       "      <td>114</td>\n",
       "      <td>116</td>\n",
       "      <td>118</td>\n",
       "      <td>513161.0</td>\n",
       "      <td>114</td>\n",
       "      <td>165.609999</td>\n",
       "      <td>5.0</td>\n",
       "      <td>2.0</td>\n",
       "      <td>0.000222</td>\n",
       "      <td>1.452719</td>\n",
       "      <td>0.322725</td>\n",
       "      <td>0.017544</td>\n",
       "      <td>82.804999</td>\n",
       "    </tr>\n",
       "  </tbody>\n",
       "</table>\n",
       "<p>1143 rows × 20 columns</p>\n",
       "</div>"
      ],
      "text/plain": [
       "        ad_id reporting_start reporting_end campaign_id fb_campaign_id    age  \\\n",
       "0      708746      17/08/2017    17/08/2017         916         103916  30-34   \n",
       "1      708749      17/08/2017    17/08/2017         916         103917  30-34   \n",
       "2      708771      17/08/2017    17/08/2017         916         103920  30-34   \n",
       "3      708815      30/08/2017    30/08/2017         916         103928  30-34   \n",
       "4      708818      17/08/2017    17/08/2017         916         103928  30-34   \n",
       "...       ...             ...           ...         ...            ...    ...   \n",
       "1138  1314410      19/08/2017    19/08/2017    blank_id       blank_id  45-49   \n",
       "1139  1314411      19/08/2017    19/08/2017    blank_id       blank_id  45-49   \n",
       "1140  1314412      19/08/2017    19/08/2017    blank_id       blank_id  45-49   \n",
       "1141  1314414      17/08/2017    17/08/2017    blank_id       blank_id  45-49   \n",
       "1142  1314415      17/08/2017    17/08/2017    blank_id       blank_id  45-49   \n",
       "\n",
       "     gender interest1 interest2  interest3  impressions  clicks       spent  \\\n",
       "0         M        15        17         17       7350.0       1    1.430000   \n",
       "1         M        16        19         21      17861.0       2    1.820000   \n",
       "2         M        20        25         22        693.0       0    0.000000   \n",
       "3         M        28        32         32       4259.0       1    1.250000   \n",
       "4         M        28        33         32       4133.0       1    1.290000   \n",
       "...     ...       ...       ...        ...          ...     ...         ...   \n",
       "1138      F       109       111        114    1129773.0     252  358.189997   \n",
       "1139      F       110       111        116     637549.0     120  173.880003   \n",
       "1140      F       111       113        117     151531.0      28   40.289999   \n",
       "1141      F       113       114        117     790253.0     135  198.710001   \n",
       "1142      F       114       116        118     513161.0     114  165.609999   \n",
       "\n",
       "      total_conversion  approved_conversion       CTR       CPC       CPM  \\\n",
       "0                  2.0                  1.0  0.000136  1.430000  0.194558   \n",
       "1                  2.0                  0.0  0.000112  0.910000  0.101898   \n",
       "2                  1.0                  0.0  0.000000       NaN  0.000000   \n",
       "3                  1.0                  0.0  0.000235  1.250000  0.293496   \n",
       "4                  1.0                  1.0  0.000242  1.290000  0.312122   \n",
       "...                ...                  ...       ...       ...       ...   \n",
       "1138              13.0                  2.0  0.000223  1.421389  0.317046   \n",
       "1139               3.0                  0.0  0.000188  1.449000  0.272732   \n",
       "1140               2.0                  0.0  0.000185  1.438929  0.265886   \n",
       "1141               8.0                  2.0  0.000171  1.471926  0.251451   \n",
       "1142               5.0                  2.0  0.000222  1.452719  0.322725   \n",
       "\n",
       "           CVR         CPA  \n",
       "0     1.000000    1.430000  \n",
       "1     0.000000         inf  \n",
       "2          NaN         NaN  \n",
       "3     0.000000         inf  \n",
       "4     1.000000    1.290000  \n",
       "...        ...         ...  \n",
       "1138  0.007937  179.094999  \n",
       "1139  0.000000         inf  \n",
       "1140  0.000000         inf  \n",
       "1141  0.014815   99.355000  \n",
       "1142  0.017544   82.804999  \n",
       "\n",
       "[1143 rows x 20 columns]"
      ]
     },
     "execution_count": 40,
     "metadata": {},
     "output_type": "execute_result"
    }
   ],
   "source": [
    "df"
   ]
  },
  {
   "cell_type": "code",
   "execution_count": 41,
   "metadata": {},
   "outputs": [
    {
     "name": "stderr",
     "output_type": "stream",
     "text": [
      "/var/folders/qn/rny7mnyd7kjfxx12b0m00v380000gn/T/ipykernel_39270/4155837374.py:5: FutureWarning:\n",
      "\n",
      "\n",
      "\n",
      "Passing `palette` without assigning `hue` is deprecated and will be removed in v0.14.0. Assign the `x` variable to `hue` and set `legend=False` for the same effect.\n",
      "\n",
      "\n"
     ]
    },
    {
     "data": {
      "image/png": "[encoded data removed]",
      "text/plain": [
       "<Figure size 640x480 with 1 Axes>"
      ]
     },
     "metadata": {},
     "output_type": "display_data"
    },
    {
     "name": "stderr",
     "output_type": "stream",
     "text": [
      "/var/folders/qn/rny7mnyd7kjfxx12b0m00v380000gn/T/ipykernel_39270/4155837374.py:9: FutureWarning:\n",
      "\n",
      "\n",
      "\n",
      "Passing `palette` without assigning `hue` is deprecated and will be removed in v0.14.0. Assign the `x` variable to `hue` and set `legend=False` for the same effect.\n",
      "\n",
      "\n"
     ]
    },
    {
     "data": {
      "image/png": "[encoded data removed]",
      "text/plain": [
       "<Figure size 640x480 with 1 Axes>"
      ]
     },
     "metadata": {},
     "output_type": "display_data"
    }
   ],
   "source": [
    "import seaborn as sns\n",
    "import matplotlib.pyplot as plt\n",
    "\n",
    "# Assuming 'df' is your DataFrame and it has 'gender', 'clicks', and 'conversions' columns\n",
    "sns.barplot(x='gender', y='clicks', data=df, palette={'M': 'blue', 'F': 'pink'})\n",
    "plt.title('Conversions by Gender')\n",
    "plt.show()\n",
    "\n",
    "sns.barplot(x='gender', y='total_conversion', data=df, palette={'M': 'blue', 'F': 'pink'})\n",
    "plt.title('Conversions by Gender')\n",
    "plt.show()"
   ]
  },
  {
   "cell_type": "code",
   "execution_count": 42,
   "metadata": {},
   "outputs": [
    {
     "name": "stderr",
     "output_type": "stream",
     "text": [
      "/Users/jevan/Documents/python_projects/fb_ad_causal_inference/fb_ad_venv/lib/python3.10/site-packages/seaborn/axisgrid.py:854: FutureWarning:\n",
      "\n",
      "\n",
      "\n",
      "Passing `palette` without assigning `hue` is deprecated and will be removed in v0.14.0. Assign the `x` variable to `hue` and set `legend=False` for the same effect.\n",
      "\n",
      "\n",
      "/Users/jevan/Documents/python_projects/fb_ad_causal_inference/fb_ad_venv/lib/python3.10/site-packages/seaborn/axisgrid.py:854: FutureWarning:\n",
      "\n",
      "\n",
      "\n",
      "Passing `palette` without assigning `hue` is deprecated and will be removed in v0.14.0. Assign the `x` variable to `hue` and set `legend=False` for the same effect.\n",
      "\n",
      "\n",
      "/Users/jevan/Documents/python_projects/fb_ad_causal_inference/fb_ad_venv/lib/python3.10/site-packages/seaborn/axisgrid.py:854: FutureWarning:\n",
      "\n",
      "\n",
      "\n",
      "Passing `palette` without assigning `hue` is deprecated and will be removed in v0.14.0. Assign the `x` variable to `hue` and set `legend=False` for the same effect.\n",
      "\n",
      "\n",
      "/Users/jevan/Documents/python_projects/fb_ad_causal_inference/fb_ad_venv/lib/python3.10/site-packages/seaborn/axisgrid.py:854: FutureWarning:\n",
      "\n",
      "\n",
      "\n",
      "Passing `palette` without assigning `hue` is deprecated and will be removed in v0.14.0. Assign the `x` variable to `hue` and set `legend=False` for the same effect.\n",
      "\n",
      "\n",
      "/Users/jevan/Documents/python_projects/fb_ad_causal_inference/fb_ad_venv/lib/python3.10/site-packages/seaborn/axisgrid.py:854: FutureWarning:\n",
      "\n",
      "\n",
      "\n",
      "Passing `palette` without assigning `hue` is deprecated and will be removed in v0.14.0. Assign the `x` variable to `hue` and set `legend=False` for the same effect.\n",
      "\n",
      "\n",
      "/var/folders/qn/rny7mnyd7kjfxx12b0m00v380000gn/T/ipykernel_39270/948233418.py:23: UserWarning:\n",
      "\n",
      "set_ticklabels() should only be used with a fixed number of ticks, i.e. after set_ticks() or using a FixedLocator.\n",
      "\n",
      "/var/folders/qn/rny7mnyd7kjfxx12b0m00v380000gn/T/ipykernel_39270/948233418.py:23: UserWarning:\n",
      "\n",
      "set_ticklabels() should only be used with a fixed number of ticks, i.e. after set_ticks() or using a FixedLocator.\n",
      "\n",
      "/var/folders/qn/rny7mnyd7kjfxx12b0m00v380000gn/T/ipykernel_39270/948233418.py:23: UserWarning:\n",
      "\n",
      "set_ticklabels() should only be used with a fixed number of ticks, i.e. after set_ticks() or using a FixedLocator.\n",
      "\n"
     ]
    },
    {
     "data": {
      "image/png": "[encoded data removed]",
      "text/plain": [
       "<Figure size 1262.24x800 with 5 Axes>"
      ]
     },
     "metadata": {},
     "output_type": "display_data"
    }
   ],
   "source": [
    "import pandas as pd\n",
    "import seaborn as sns\n",
    "import matplotlib.pyplot as plt\n",
    "\n",
    "# Assuming 'df' is your DataFrame\n",
    "# First, melt your DataFrame so that it's in long format\n",
    "df_long = df.melt(id_vars=['gender'], value_vars=['spent', 'impressions', 'clicks', 'total_conversion', 'approved_conversion'],\n",
    "                  var_name='metric', value_name='value')\n",
    "\n",
    "# Create a FacetGrid, this will provide a template for the individual plots\n",
    "g = sns.FacetGrid(df_long, col='metric', col_wrap=3, sharey=False, height=4)\n",
    "\n",
    "# Now map the individual plots to the grid with the barplot function\n",
    "g.map(sns.barplot, 'gender', 'value', palette={'M': 'blue', 'F': 'pink'}, order=['M', 'F'])\n",
    "\n",
    "# Additional customizations can be done in a similar manner\n",
    "g.set_titles(\"{col_name}\")\n",
    "g.set_axis_labels(\"\", \"Value\")\n",
    "g.add_legend(title='Gender')\n",
    "\n",
    "# Adjust each axis individually\n",
    "for ax in g.axes.flat:\n",
    "    ax.set_xticklabels(ax.get_xticklabels(), rotation=45)\n",
    "\n",
    "# Display the plot\n",
    "plt.tight_layout()\n",
    "plt.show()"
   ]
  },
  {
   "cell_type": "code",
   "execution_count": 43,
   "metadata": {},
   "outputs": [
    {
     "data": {
      "image/png": "[encoded data removed]",
      "text/plain": [
       "<Figure size 1400x1800 with 5 Axes>"
      ]
     },
     "metadata": {},
     "output_type": "display_data"
    }
   ],
   "source": [
    "import pandas as pd\n",
    "import seaborn as sns\n",
    "import matplotlib.pyplot as plt\n",
    "\n",
    "# Assuming 'df' is your DataFrame and it includes the 'reporting_start' column along with the metrics\n",
    "\n",
    "# Convert 'reporting_start' to datetime\n",
    "df['reporting_start'] = pd.to_datetime(df['reporting_start'], dayfirst=True)\n",
    "\n",
    "# Set 'reporting_start' as the index\n",
    "df.set_index('reporting_start', inplace=True)\n",
    "\n",
    "# Now, plot each metric over time in separate subplots\n",
    "fig, axes = plt.subplots(nrows=5, ncols=1, figsize=(14, 18), sharex=True) # Adjust the size as necessary\n",
    "\n",
    "metrics = ['spent', 'impressions', 'clicks', 'total_conversion', 'approved_conversion']\n",
    "colors = {'M': 'blue', 'F': 'pink'}\n",
    "\n",
    "for i, metric in enumerate(metrics):\n",
    "    # Group by 'reporting_start' and 'gender' and calculate the sum\n",
    "    # You can also use .mean() if you're interested in the average instead of the total\n",
    "    df_grouped = df.groupby([df.index, 'gender'])[metric].sum().unstack()\n",
    "    \n",
    "    # Plot\n",
    "    df_grouped.plot(ax=axes[i], color=[colors[gender] for gender in df_grouped.columns])\n",
    "    axes[i].set_title(metric.capitalize())\n",
    "    axes[i].set_ylabel(metric)\n",
    "\n",
    "# Add a legend and an x-label\n",
    "axes[-1].set_xlabel('Date')\n",
    "#fig.legend(labels=['Male', 'Female'], loc='upper right')\n",
    "\n",
    "# Show the plot\n",
    "plt.tight_layout()\n",
    "plt.show()"
   ]
  },
  {
   "cell_type": "code",
   "execution_count": 44,
   "metadata": {},
   "outputs": [
    {
     "data": {
      "image/png": "[encoded data removed]",
      "text/plain": [
       "<Figure size 640x480 with 1 Axes>"
      ]
     },
     "metadata": {},
     "output_type": "display_data"
    }
   ],
   "source": [
    "import matplotlib.pyplot as plt\n",
    "\n",
    "# Example data\n",
    "stages = ['Impressions', 'Clicks', 'Total Conversions', 'Approved Conversions']\n",
    "counts = [df['impressions'].sum(), df['clicks'].sum(), df['total_conversion'].sum(), df['approved_conversion'].sum()]\n",
    "\n",
    "# Create a horizontal bar chart\n",
    "fig, ax = plt.subplots()\n",
    "\n",
    "# The y position for each bar\n",
    "y_pos = range(len(stages))\n",
    "\n",
    "# The width of each bar (i.e., the count at each stage)\n",
    "width = counts\n",
    "\n",
    "# Plotting each stage of the funnel as a horizontal bar\n",
    "ax.barh(y_pos, width, align='center')\n",
    "\n",
    "# Setting the y ticks to the stages\n",
    "ax.set_yticks(y_pos)\n",
    "ax.set_yticklabels(stages)\n",
    "\n",
    "# Inverting the y-axis to have the funnel's large end on top\n",
    "ax.invert_yaxis()\n",
    "\n",
    "# Labeling the x-axis\n",
    "ax.set_xlabel('Count')\n",
    "\n",
    "# Adding a title\n",
    "ax.set_title('Conversion Funnel')\n",
    "\n",
    "# Show the plot\n",
    "plt.show()"
   ]
  },
  {
   "cell_type": "code",
   "execution_count": 45,
   "metadata": {},
   "outputs": [
    {
     "data": {
      "application/vnd.plotly.v1+json": {
       "config": {
        "plotlyServerURL": "https://plot.ly"
       },
       "data": [
        {
         "link": {
          "source": [
           0,
           1,
           2
          ],
          "target": [
           1,
           2,
           3
          ],
          "value": [
           38165,
           3264,
           1079
          ]
         },
         "node": {
          "label": [
           "Impressions",
           "Clicks",
           "Total Conversions",
           "Approved Conversions"
          ],
          "line": {
           "color": "black",
           "width": 0.5
          },
          "pad": 15,
          "thickness": 20
         },
         "type": "sankey"
        }
       ],
       "layout": {
        "font": {
         "size": 10
        },
        "template": {
         "data": {
          "bar": [
           {
            "error_x": {
             "color": "#2a3f5f"
            },
            "error_y": {
             "color": "#2a3f5f"
            },
            "marker": {
             "line": {
              "color": "#E5ECF6",
              "width": 0.5
             },
             "pattern": {
              "fillmode": "overlay",
              "size": 10,
              "solidity": 0.2
             }
            },
            "type": "bar"
           }
          ],
          "barpolar": [
           {
            "marker": {
             "line": {
              "color": "#E5ECF6",
              "width": 0.5
             },
             "pattern": {
              "fillmode": "overlay",
              "size": 10,
              "solidity": 0.2
             }
            },
            "type": "barpolar"
           }
          ],
          "carpet": [
           {
            "aaxis": {
             "endlinecolor": "#2a3f5f",
             "gridcolor": "white",
             "linecolor": "white",
             "minorgridcolor": "white",
             "startlinecolor": "#2a3f5f"
            },
            "baxis": {
             "endlinecolor": "#2a3f5f",
             "gridcolor": "white",
             "linecolor": "white",
             "minorgridcolor": "white",
             "startlinecolor": "#2a3f5f"
            },
            "type": "carpet"
           }
          ],
          "choropleth": [
           {
            "colorbar": {
             "outlinewidth": 0,
             "ticks": ""
            },
            "type": "choropleth"
           }
          ],
          "contour": [
           {
            "colorbar": {
             "outlinewidth": 0,
             "ticks": ""
            },
            "colorscale": [
             [
              0,
              "#0d0887"
             ],
             [
              0.1111111111111111,
              "#46039f"
             ],
             [
              0.2222222222222222,
              "#7201a8"
             ],
             [
              0.3333333333333333,
              "#9c179e"
             ],
             [
              0.4444444444444444,
              "#bd3786"
             ],
             [
              0.5555555555555556,
              "#d8576b"
             ],
             [
              0.6666666666666666,
              "#ed7953"
             ],
             [
              0.7777777777777778,
              "#fb9f3a"
             ],
             [
              0.8888888888888888,
              "#fdca26"
             ],
             [
              1,
              "#f0f921"
             ]
            ],
            "type": "contour"
           }
          ],
          "contourcarpet": [
           {
            "colorbar": {
             "outlinewidth": 0,
             "ticks": ""
            },
            "type": "contourcarpet"
           }
          ],
          "heatmap": [
           {
            "colorbar": {
             "outlinewidth": 0,
             "ticks": ""
            },
            "colorscale": [
             [
              0,
              "#0d0887"
             ],
             [
              0.1111111111111111,
              "#46039f"
             ],
             [
              0.2222222222222222,
              "#7201a8"
             ],
             [
              0.3333333333333333,
              "#9c179e"
             ],
             [
              0.4444444444444444,
              "#bd3786"
             ],
             [
              0.5555555555555556,
              "#d8576b"
             ],
             [
              0.6666666666666666,
              "#ed7953"
             ],
             [
              0.7777777777777778,
              "#fb9f3a"
             ],
             [
              0.8888888888888888,
              "#fdca26"
             ],
             [
              1,
              "#f0f921"
             ]
            ],
            "type": "heatmap"
           }
          ],
          "heatmapgl": [
           {
            "colorbar": {
             "outlinewidth": 0,
             "ticks": ""
            },
            "colorscale": [
             [
              0,
              "#0d0887"
             ],
             [
              0.1111111111111111,
              "#46039f"
             ],
             [
              0.2222222222222222,
              "#7201a8"
             ],
             [
              0.3333333333333333,
              "#9c179e"
             ],
             [
              0.4444444444444444,
              "#bd3786"
             ],
             [
              0.5555555555555556,
              "#d8576b"
             ],
             [
              0.6666666666666666,
              "#ed7953"
             ],
             [
              0.7777777777777778,
              "#fb9f3a"
             ],
             [
              0.8888888888888888,
              "#fdca26"
             ],
             [
              1,
              "#f0f921"
             ]
            ],
            "type": "heatmapgl"
           }
          ],
          "histogram": [
           {
            "marker": {
             "pattern": {
              "fillmode": "overlay",
              "size": 10,
              "solidity": 0.2
             }
            },
            "type": "histogram"
           }
          ],
          "histogram2d": [
           {
            "colorbar": {
             "outlinewidth": 0,
             "ticks": ""
            },
            "colorscale": [
             [
              0,
              "#0d0887"
             ],
             [
              0.1111111111111111,
              "#46039f"
             ],
             [
              0.2222222222222222,
              "#7201a8"
             ],
             [
              0.3333333333333333,
              "#9c179e"
             ],
             [
              0.4444444444444444,
              "#bd3786"
             ],
             [
              0.5555555555555556,
              "#d8576b"
             ],
             [
              0.6666666666666666,
              "#ed7953"
             ],
             [
              0.7777777777777778,
              "#fb9f3a"
             ],
             [
              0.8888888888888888,
              "#fdca26"
             ],
             [
              1,
              "#f0f921"
             ]
            ],
            "type": "histogram2d"
           }
          ],
          "histogram2dcontour": [
           {
            "colorbar": {
             "outlinewidth": 0,
             "ticks": ""
            },
            "colorscale": [
             [
              0,
              "#0d0887"
             ],
             [
              0.1111111111111111,
              "#46039f"
             ],
             [
              0.2222222222222222,
              "#7201a8"
             ],
             [
              0.3333333333333333,
              "#9c179e"
             ],
             [
              0.4444444444444444,
              "#bd3786"
             ],
             [
              0.5555555555555556,
              "#d8576b"
             ],
             [
              0.6666666666666666,
              "#ed7953"
             ],
             [
              0.7777777777777778,
              "#fb9f3a"
             ],
             [
              0.8888888888888888,
              "#fdca26"
             ],
             [
              1,
              "#f0f921"
             ]
            ],
            "type": "histogram2dcontour"
           }
          ],
          "mesh3d": [
           {
            "colorbar": {
             "outlinewidth": 0,
             "ticks": ""
            },
            "type": "mesh3d"
           }
          ],
          "parcoords": [
           {
            "line": {
             "colorbar": {
              "outlinewidth": 0,
              "ticks": ""
             }
            },
            "type": "parcoords"
           }
          ],
          "pie": [
           {
            "automargin": true,
            "type": "pie"
           }
          ],
          "scatter": [
           {
            "fillpattern": {
             "fillmode": "overlay",
             "size": 10,
             "solidity": 0.2
            },
            "type": "scatter"
           }
          ],
          "scatter3d": [
           {
            "line": {
             "colorbar": {
              "outlinewidth": 0,
              "ticks": ""
             }
            },
            "marker": {
             "colorbar": {
              "outlinewidth": 0,
              "ticks": ""
             }
            },
            "type": "scatter3d"
           }
          ],
          "scattercarpet": [
           {
            "marker": {
             "colorbar": {
              "outlinewidth": 0,
              "ticks": ""
             }
            },
            "type": "scattercarpet"
           }
          ],
          "scattergeo": [
           {
            "marker": {
             "colorbar": {
              "outlinewidth": 0,
              "ticks": ""
             }
            },
            "type": "scattergeo"
           }
          ],
          "scattergl": [
           {
            "marker": {
             "colorbar": {
              "outlinewidth": 0,
              "ticks": ""
             }
            },
            "type": "scattergl"
           }
          ],
          "scattermapbox": [
           {
            "marker": {
             "colorbar": {
              "outlinewidth": 0,
              "ticks": ""
             }
            },
            "type": "scattermapbox"
           }
          ],
          "scatterpolar": [
           {
            "marker": {
             "colorbar": {
              "outlinewidth": 0,
              "ticks": ""
             }
            },
            "type": "scatterpolar"
           }
          ],
          "scatterpolargl": [
           {
            "marker": {
             "colorbar": {
              "outlinewidth": 0,
              "ticks": ""
             }
            },
            "type": "scatterpolargl"
           }
          ],
          "scatterternary": [
           {
            "marker": {
             "colorbar": {
              "outlinewidth": 0,
              "ticks": ""
             }
            },
            "type": "scatterternary"
           }
          ],
          "surface": [
           {
            "colorbar": {
             "outlinewidth": 0,
             "ticks": ""
            },
            "colorscale": [
             [
              0,
              "#0d0887"
             ],
             [
              0.1111111111111111,
              "#46039f"
             ],
             [
              0.2222222222222222,
              "#7201a8"
             ],
             [
              0.3333333333333333,
              "#9c179e"
             ],
             [
              0.4444444444444444,
              "#bd3786"
             ],
             [
              0.5555555555555556,
              "#d8576b"
             ],
             [
              0.6666666666666666,
              "#ed7953"
             ],
             [
              0.7777777777777778,
              "#fb9f3a"
             ],
             [
              0.8888888888888888,
              "#fdca26"
             ],
             [
              1,
              "#f0f921"
             ]
            ],
            "type": "surface"
           }
          ],
          "table": [
           {
            "cells": {
             "fill": {
              "color": "#EBF0F8"
             },
             "line": {
              "color": "white"
             }
            },
            "header": {
             "fill": {
              "color": "#C8D4E3"
             },
             "line": {
              "color": "white"
             }
            },
            "type": "table"
           }
          ]
         },
         "layout": {
          "annotationdefaults": {
           "arrowcolor": "#2a3f5f",
           "arrowhead": 0,
           "arrowwidth": 1
          },
          "autotypenumbers": "strict",
          "coloraxis": {
           "colorbar": {
            "outlinewidth": 0,
            "ticks": ""
           }
          },
          "colorscale": {
           "diverging": [
            [
             0,
             "#8e0152"
            ],
            [
             0.1,
             "#c51b7d"
            ],
            [
             0.2,
             "#de77ae"
            ],
            [
             0.3,
             "#f1b6da"
            ],
            [
             0.4,
             "#fde0ef"
            ],
            [
             0.5,
             "#f7f7f7"
            ],
            [
             0.6,
             "#e6f5d0"
            ],
            [
             0.7,
             "#b8e186"
            ],
            [
             0.8,
             "#7fbc41"
            ],
            [
             0.9,
             "#4d9221"
            ],
            [
             1,
             "#276419"
            ]
           ],
           "sequential": [
            [
             0,
             "#0d0887"
            ],
            [
             0.1111111111111111,
             "#46039f"
            ],
            [
             0.2222222222222222,
             "#7201a8"
            ],
            [
             0.3333333333333333,
             "#9c179e"
            ],
            [
             0.4444444444444444,
             "#bd3786"
            ],
            [
             0.5555555555555556,
             "#d8576b"
            ],
            [
             0.6666666666666666,
             "#ed7953"
            ],
            [
             0.7777777777777778,
             "#fb9f3a"
            ],
            [
             0.8888888888888888,
             "#fdca26"
            ],
            [
             1,
             "#f0f921"
            ]
           ],
           "sequentialminus": [
            [
             0,
             "#0d0887"
            ],
            [
             0.1111111111111111,
             "#46039f"
            ],
            [
             0.2222222222222222,
             "#7201a8"
            ],
            [
             0.3333333333333333,
             "#9c179e"
            ],
            [
             0.4444444444444444,
             "#bd3786"
            ],
            [
             0.5555555555555556,
             "#d8576b"
            ],
            [
             0.6666666666666666,
             "#ed7953"
            ],
            [
             0.7777777777777778,
             "#fb9f3a"
            ],
            [
             0.8888888888888888,
             "#fdca26"
            ],
            [
             1,
             "#f0f921"
            ]
           ]
          },
          "colorway": [
           "#636efa",
           "#EF553B",
           "#00cc96",
           "#ab63fa",
           "#FFA15A",
           "#19d3f3",
           "#FF6692",
           "#B6E880",
           "#FF97FF",
           "#FECB52"
          ],
          "font": {
           "color": "#2a3f5f"
          },
          "geo": {
           "bgcolor": "white",
           "lakecolor": "white",
           "landcolor": "#E5ECF6",
           "showlakes": true,
           "showland": true,
           "subunitcolor": "white"
          },
          "hoverlabel": {
           "align": "left"
          },
          "hovermode": "closest",
          "mapbox": {
           "style": "light"
          },
          "paper_bgcolor": "white",
          "plot_bgcolor": "#E5ECF6",
          "polar": {
           "angularaxis": {
            "gridcolor": "white",
            "linecolor": "white",
            "ticks": ""
           },
           "bgcolor": "#E5ECF6",
           "radialaxis": {
            "gridcolor": "white",
            "linecolor": "white",
            "ticks": ""
           }
          },
          "scene": {
           "xaxis": {
            "backgroundcolor": "#E5ECF6",
            "gridcolor": "white",
            "gridwidth": 2,
            "linecolor": "white",
            "showbackground": true,
            "ticks": "",
            "zerolinecolor": "white"
           },
           "yaxis": {
            "backgroundcolor": "#E5ECF6",
            "gridcolor": "white",
            "gridwidth": 2,
            "linecolor": "white",
            "showbackground": true,
            "ticks": "",
            "zerolinecolor": "white"
           },
           "zaxis": {
            "backgroundcolor": "#E5ECF6",
            "gridcolor": "white",
            "gridwidth": 2,
            "linecolor": "white",
            "showbackground": true,
            "ticks": "",
            "zerolinecolor": "white"
           }
          },
          "shapedefaults": {
           "line": {
            "color": "#2a3f5f"
           }
          },
          "ternary": {
           "aaxis": {
            "gridcolor": "white",
            "linecolor": "white",
            "ticks": ""
           },
           "baxis": {
            "gridcolor": "white",
            "linecolor": "white",
            "ticks": ""
           },
           "bgcolor": "#E5ECF6",
           "caxis": {
            "gridcolor": "white",
            "linecolor": "white",
            "ticks": ""
           }
          },
          "title": {
           "x": 0.05
          },
          "xaxis": {
           "automargin": true,
           "gridcolor": "white",
           "linecolor": "white",
           "ticks": "",
           "title": {
            "standoff": 15
           },
           "zerolinecolor": "white",
           "zerolinewidth": 2
          },
          "yaxis": {
           "automargin": true,
           "gridcolor": "white",
           "linecolor": "white",
           "ticks": "",
           "title": {
            "standoff": 15
           },
           "zerolinecolor": "white",
           "zerolinewidth": 2
          }
         }
        },
        "title": {
         "text": "Advertising Conversion Funnel"
        }
       }
      }
     },
     "metadata": {},
     "output_type": "display_data"
    }
   ],
   "source": [
    "import plotly.graph_objects as go\n",
    "\n",
    "# Calculate the total number of events at each stage of the funnel\n",
    "impressions = df['impressions'].sum()\n",
    "clicks = df[df['clicks'] > 0]['clicks'].sum()  # assuming only positive clicks lead to conversions\n",
    "total_conversions = df[df['total_conversion'] > 0]['total_conversion'].sum()  # same for conversions\n",
    "approved_conversions = df[df['approved_conversion'] > 0]['approved_conversion'].sum()  # same for approved conversions\n",
    "\n",
    "# Define source and target nodes\n",
    "source = [0, 1, 2]  # indices of the source nodes\n",
    "target = [1, 2, 3]  # indices of the target nodes\n",
    "value = [clicks, total_conversions, approved_conversions]  # volume from source to target\n",
    "\n",
    "# Define the nodes\n",
    "label = [\"Impressions\", \"Clicks\", \"Total Conversions\", \"Approved Conversions\"]\n",
    "\n",
    "# Create the Sankey diagram\n",
    "fig = go.Figure(data=[go.Sankey(\n",
    "    node=dict(\n",
    "      pad=15,  # Padding between nodes\n",
    "      thickness=20,  # Node thickness\n",
    "      line=dict(color=\"black\", width=0.5),  # Border line\n",
    "      label=label\n",
    "    ),\n",
    "    link=dict(\n",
    "      source=source,\n",
    "      target=target,\n",
    "      value=value\n",
    "    ))])\n",
    "\n",
    "# Set the title\n",
    "fig.update_layout(title_text='Advertising Conversion Funnel', font_size=10)\n",
    "\n",
    "# Show the figure\n",
    "fig.show()\n"
   ]
  },
  {
   "cell_type": "code",
   "execution_count": 46,
   "metadata": {},
   "outputs": [
    {
     "data": {
      "application/vnd.plotly.v1+json": {
       "config": {
        "plotlyServerURL": "https://plot.ly"
       },
       "data": [
        {
         "domain": {
          "x": [
           0,
           0.45
          ],
          "y": [
           0,
           1
          ]
         },
         "link": {
          "source": [
           0,
           1,
           2
          ],
          "target": [
           1,
           2,
           3
          ],
          "value": [
           14287,
           1620,
           584
          ]
         },
         "node": {
          "label": [
           "Impressions",
           "Clicks",
           "Total Conversions",
           "Approved Conversions"
          ],
          "line": {
           "color": "black",
           "width": 0.5
          },
          "pad": 15,
          "thickness": 20
         },
         "type": "sankey"
        },
        {
         "domain": {
          "x": [
           0.55,
           1
          ],
          "y": [
           0,
           1
          ]
         },
         "link": {
          "source": [
           0,
           1,
           2
          ],
          "target": [
           1,
           2,
           3
          ],
          "value": [
           23878,
           1644,
           495
          ]
         },
         "node": {
          "label": [
           "Impressions",
           "Clicks",
           "Total Conversions",
           "Approved Conversions"
          ],
          "line": {
           "color": "black",
           "width": 0.5
          },
          "pad": 15,
          "thickness": 20
         },
         "type": "sankey"
        }
       ],
       "layout": {
        "template": {
         "data": {
          "bar": [
           {
            "error_x": {
             "color": "#2a3f5f"
            },
            "error_y": {
             "color": "#2a3f5f"
            },
            "marker": {
             "line": {
              "color": "#E5ECF6",
              "width": 0.5
             },
             "pattern": {
              "fillmode": "overlay",
              "size": 10,
              "solidity": 0.2
             }
            },
            "type": "bar"
           }
          ],
          "barpolar": [
           {
            "marker": {
             "line": {
              "color": "#E5ECF6",
              "width": 0.5
             },
             "pattern": {
              "fillmode": "overlay",
              "size": 10,
              "solidity": 0.2
             }
            },
            "type": "barpolar"
           }
          ],
          "carpet": [
           {
            "aaxis": {
             "endlinecolor": "#2a3f5f",
             "gridcolor": "white",
             "linecolor": "white",
             "minorgridcolor": "white",
             "startlinecolor": "#2a3f5f"
            },
            "baxis": {
             "endlinecolor": "#2a3f5f",
             "gridcolor": "white",
             "linecolor": "white",
             "minorgridcolor": "white",
             "startlinecolor": "#2a3f5f"
            },
            "type": "carpet"
           }
          ],
          "choropleth": [
           {
            "colorbar": {
             "outlinewidth": 0,
             "ticks": ""
            },
            "type": "choropleth"
           }
          ],
          "contour": [
           {
            "colorbar": {
             "outlinewidth": 0,
             "ticks": ""
            },
            "colorscale": [
             [
              0,
              "#0d0887"
             ],
             [
              0.1111111111111111,
              "#46039f"
             ],
             [
              0.2222222222222222,
              "#7201a8"
             ],
             [
              0.3333333333333333,
              "#9c179e"
             ],
             [
              0.4444444444444444,
              "#bd3786"
             ],
             [
              0.5555555555555556,
              "#d8576b"
             ],
             [
              0.6666666666666666,
              "#ed7953"
             ],
             [
              0.7777777777777778,
              "#fb9f3a"
             ],
             [
              0.8888888888888888,
              "#fdca26"
             ],
             [
              1,
              "#f0f921"
             ]
            ],
            "type": "contour"
           }
          ],
          "contourcarpet": [
           {
            "colorbar": {
             "outlinewidth": 0,
             "ticks": ""
            },
            "type": "contourcarpet"
           }
          ],
          "heatmap": [
           {
            "colorbar": {
             "outlinewidth": 0,
             "ticks": ""
            },
            "colorscale": [
             [
              0,
              "#0d0887"
             ],
             [
              0.1111111111111111,
              "#46039f"
             ],
             [
              0.2222222222222222,
              "#7201a8"
             ],
             [
              0.3333333333333333,
              "#9c179e"
             ],
             [
              0.4444444444444444,
              "#bd3786"
             ],
             [
              0.5555555555555556,
              "#d8576b"
             ],
             [
              0.6666666666666666,
              "#ed7953"
             ],
             [
              0.7777777777777778,
              "#fb9f3a"
             ],
             [
              0.8888888888888888,
              "#fdca26"
             ],
             [
              1,
              "#f0f921"
             ]
            ],
            "type": "heatmap"
           }
          ],
          "heatmapgl": [
           {
            "colorbar": {
             "outlinewidth": 0,
             "ticks": ""
            },
            "colorscale": [
             [
              0,
              "#0d0887"
             ],
             [
              0.1111111111111111,
              "#46039f"
             ],
             [
              0.2222222222222222,
              "#7201a8"
             ],
             [
              0.3333333333333333,
              "#9c179e"
             ],
             [
              0.4444444444444444,
              "#bd3786"
             ],
             [
              0.5555555555555556,
              "#d8576b"
             ],
             [
              0.6666666666666666,
              "#ed7953"
             ],
             [
              0.7777777777777778,
              "#fb9f3a"
             ],
             [
              0.8888888888888888,
              "#fdca26"
             ],
             [
              1,
              "#f0f921"
             ]
            ],
            "type": "heatmapgl"
           }
          ],
          "histogram": [
           {
            "marker": {
             "pattern": {
              "fillmode": "overlay",
              "size": 10,
              "solidity": 0.2
             }
            },
            "type": "histogram"
           }
          ],
          "histogram2d": [
           {
            "colorbar": {
             "outlinewidth": 0,
             "ticks": ""
            },
            "colorscale": [
             [
              0,
              "#0d0887"
             ],
             [
              0.1111111111111111,
              "#46039f"
             ],
             [
              0.2222222222222222,
              "#7201a8"
             ],
             [
              0.3333333333333333,
              "#9c179e"
             ],
             [
              0.4444444444444444,
              "#bd3786"
             ],
             [
              0.5555555555555556,
              "#d8576b"
             ],
             [
              0.6666666666666666,
              "#ed7953"
             ],
             [
              0.7777777777777778,
              "#fb9f3a"
             ],
             [
              0.8888888888888888,
              "#fdca26"
             ],
             [
              1,
              "#f0f921"
             ]
            ],
            "type": "histogram2d"
           }
          ],
          "histogram2dcontour": [
           {
            "colorbar": {
             "outlinewidth": 0,
             "ticks": ""
            },
            "colorscale": [
             [
              0,
              "#0d0887"
             ],
             [
              0.1111111111111111,
              "#46039f"
             ],
             [
              0.2222222222222222,
              "#7201a8"
             ],
             [
              0.3333333333333333,
              "#9c179e"
             ],
             [
              0.4444444444444444,
              "#bd3786"
             ],
             [
              0.5555555555555556,
              "#d8576b"
             ],
             [
              0.6666666666666666,
              "#ed7953"
             ],
             [
              0.7777777777777778,
              "#fb9f3a"
             ],
             [
              0.8888888888888888,
              "#fdca26"
             ],
             [
              1,
              "#f0f921"
             ]
            ],
            "type": "histogram2dcontour"
           }
          ],
          "mesh3d": [
           {
            "colorbar": {
             "outlinewidth": 0,
             "ticks": ""
            },
            "type": "mesh3d"
           }
          ],
          "parcoords": [
           {
            "line": {
             "colorbar": {
              "outlinewidth": 0,
              "ticks": ""
             }
            },
            "type": "parcoords"
           }
          ],
          "pie": [
           {
            "automargin": true,
            "type": "pie"
           }
          ],
          "scatter": [
           {
            "fillpattern": {
             "fillmode": "overlay",
             "size": 10,
             "solidity": 0.2
            },
            "type": "scatter"
           }
          ],
          "scatter3d": [
           {
            "line": {
             "colorbar": {
              "outlinewidth": 0,
              "ticks": ""
             }
            },
            "marker": {
             "colorbar": {
              "outlinewidth": 0,
              "ticks": ""
             }
            },
            "type": "scatter3d"
           }
          ],
          "scattercarpet": [
           {
            "marker": {
             "colorbar": {
              "outlinewidth": 0,
              "ticks": ""
             }
            },
            "type": "scattercarpet"
           }
          ],
          "scattergeo": [
           {
            "marker": {
             "colorbar": {
              "outlinewidth": 0,
              "ticks": ""
             }
            },
            "type": "scattergeo"
           }
          ],
          "scattergl": [
           {
            "marker": {
             "colorbar": {
              "outlinewidth": 0,
              "ticks": ""
             }
            },
            "type": "scattergl"
           }
          ],
          "scattermapbox": [
           {
            "marker": {
             "colorbar": {
              "outlinewidth": 0,
              "ticks": ""
             }
            },
            "type": "scattermapbox"
           }
          ],
          "scatterpolar": [
           {
            "marker": {
             "colorbar": {
              "outlinewidth": 0,
              "ticks": ""
             }
            },
            "type": "scatterpolar"
           }
          ],
          "scatterpolargl": [
           {
            "marker": {
             "colorbar": {
              "outlinewidth": 0,
              "ticks": ""
             }
            },
            "type": "scatterpolargl"
           }
          ],
          "scatterternary": [
           {
            "marker": {
             "colorbar": {
              "outlinewidth": 0,
              "ticks": ""
             }
            },
            "type": "scatterternary"
           }
          ],
          "surface": [
           {
            "colorbar": {
             "outlinewidth": 0,
             "ticks": ""
            },
            "colorscale": [
             [
              0,
              "#0d0887"
             ],
             [
              0.1111111111111111,
              "#46039f"
             ],
             [
              0.2222222222222222,
              "#7201a8"
             ],
             [
              0.3333333333333333,
              "#9c179e"
             ],
             [
              0.4444444444444444,
              "#bd3786"
             ],
             [
              0.5555555555555556,
              "#d8576b"
             ],
             [
              0.6666666666666666,
              "#ed7953"
             ],
             [
              0.7777777777777778,
              "#fb9f3a"
             ],
             [
              0.8888888888888888,
              "#fdca26"
             ],
             [
              1,
              "#f0f921"
             ]
            ],
            "type": "surface"
           }
          ],
          "table": [
           {
            "cells": {
             "fill": {
              "color": "#EBF0F8"
             },
             "line": {
              "color": "white"
             }
            },
            "header": {
             "fill": {
              "color": "#C8D4E3"
             },
             "line": {
              "color": "white"
             }
            },
            "type": "table"
           }
          ]
         },
         "layout": {
          "annotationdefaults": {
           "arrowcolor": "#2a3f5f",
           "arrowhead": 0,
           "arrowwidth": 1
          },
          "autotypenumbers": "strict",
          "coloraxis": {
           "colorbar": {
            "outlinewidth": 0,
            "ticks": ""
           }
          },
          "colorscale": {
           "diverging": [
            [
             0,
             "#8e0152"
            ],
            [
             0.1,
             "#c51b7d"
            ],
            [
             0.2,
             "#de77ae"
            ],
            [
             0.3,
             "#f1b6da"
            ],
            [
             0.4,
             "#fde0ef"
            ],
            [
             0.5,
             "#f7f7f7"
            ],
            [
             0.6,
             "#e6f5d0"
            ],
            [
             0.7,
             "#b8e186"
            ],
            [
             0.8,
             "#7fbc41"
            ],
            [
             0.9,
             "#4d9221"
            ],
            [
             1,
             "#276419"
            ]
           ],
           "sequential": [
            [
             0,
             "#0d0887"
            ],
            [
             0.1111111111111111,
             "#46039f"
            ],
            [
             0.2222222222222222,
             "#7201a8"
            ],
            [
             0.3333333333333333,
             "#9c179e"
            ],
            [
             0.4444444444444444,
             "#bd3786"
            ],
            [
             0.5555555555555556,
             "#d8576b"
            ],
            [
             0.6666666666666666,
             "#ed7953"
            ],
            [
             0.7777777777777778,
             "#fb9f3a"
            ],
            [
             0.8888888888888888,
             "#fdca26"
            ],
            [
             1,
             "#f0f921"
            ]
           ],
           "sequentialminus": [
            [
             0,
             "#0d0887"
            ],
            [
             0.1111111111111111,
             "#46039f"
            ],
            [
             0.2222222222222222,
             "#7201a8"
            ],
            [
             0.3333333333333333,
             "#9c179e"
            ],
            [
             0.4444444444444444,
             "#bd3786"
            ],
            [
             0.5555555555555556,
             "#d8576b"
            ],
            [
             0.6666666666666666,
             "#ed7953"
            ],
            [
             0.7777777777777778,
             "#fb9f3a"
            ],
            [
             0.8888888888888888,
             "#fdca26"
            ],
            [
             1,
             "#f0f921"
            ]
           ]
          },
          "colorway": [
           "#636efa",
           "#EF553B",
           "#00cc96",
           "#ab63fa",
           "#FFA15A",
           "#19d3f3",
           "#FF6692",
           "#B6E880",
           "#FF97FF",
           "#FECB52"
          ],
          "font": {
           "color": "#2a3f5f"
          },
          "geo": {
           "bgcolor": "white",
           "lakecolor": "white",
           "landcolor": "#E5ECF6",
           "showlakes": true,
           "showland": true,
           "subunitcolor": "white"
          },
          "hoverlabel": {
           "align": "left"
          },
          "hovermode": "closest",
          "mapbox": {
           "style": "light"
          },
          "paper_bgcolor": "white",
          "plot_bgcolor": "#E5ECF6",
          "polar": {
           "angularaxis": {
            "gridcolor": "white",
            "linecolor": "white",
            "ticks": ""
           },
           "bgcolor": "#E5ECF6",
           "radialaxis": {
            "gridcolor": "white",
            "linecolor": "white",
            "ticks": ""
           }
          },
          "scene": {
           "xaxis": {
            "backgroundcolor": "#E5ECF6",
            "gridcolor": "white",
            "gridwidth": 2,
            "linecolor": "white",
            "showbackground": true,
            "ticks": "",
            "zerolinecolor": "white"
           },
           "yaxis": {
            "backgroundcolor": "#E5ECF6",
            "gridcolor": "white",
            "gridwidth": 2,
            "linecolor": "white",
            "showbackground": true,
            "ticks": "",
            "zerolinecolor": "white"
           },
           "zaxis": {
            "backgroundcolor": "#E5ECF6",
            "gridcolor": "white",
            "gridwidth": 2,
            "linecolor": "white",
            "showbackground": true,
            "ticks": "",
            "zerolinecolor": "white"
           }
          },
          "shapedefaults": {
           "line": {
            "color": "#2a3f5f"
           }
          },
          "ternary": {
           "aaxis": {
            "gridcolor": "white",
            "linecolor": "white",
            "ticks": ""
           },
           "baxis": {
            "gridcolor": "white",
            "linecolor": "white",
            "ticks": ""
           },
           "bgcolor": "#E5ECF6",
           "caxis": {
            "gridcolor": "white",
            "linecolor": "white",
            "ticks": ""
           }
          },
          "title": {
           "x": 0.05
          },
          "xaxis": {
           "automargin": true,
           "gridcolor": "white",
           "linecolor": "white",
           "ticks": "",
           "title": {
            "standoff": 15
           },
           "zerolinecolor": "white",
           "zerolinewidth": 2
          },
          "yaxis": {
           "automargin": true,
           "gridcolor": "white",
           "linecolor": "white",
           "ticks": "",
           "title": {
            "standoff": 15
           },
           "zerolinecolor": "white",
           "zerolinewidth": 2
          }
         }
        },
        "title": {
         "text": "Gender-Specific Advertising Conversion Funnels"
        }
       }
      }
     },
     "metadata": {},
     "output_type": "display_data"
    }
   ],
   "source": [
    "import plotly.graph_objects as go\n",
    "from plotly.subplots import make_subplots\n",
    "\n",
    "# Filter the DataFrame for males and females\n",
    "df_male = df[df['gender'] == 'M']\n",
    "df_female = df[df['gender'] == 'F']\n",
    "\n",
    "# Define a function to calculate the metrics and create Sankey data\n",
    "def calculate_sankey_data(df):\n",
    "    impressions = df['impressions'].sum()\n",
    "    clicks = df[df['clicks'] > 0]['clicks'].sum()\n",
    "    total_conversions = df[df['total_conversion'] > 0]['total_conversion'].sum()\n",
    "    approved_conversions = df[df['approved_conversion'] > 0]['approved_conversion'].sum()\n",
    "    \n",
    "    # Define source, target, and value for the Sankey diagram\n",
    "    source = [0, 1, 2]\n",
    "    target = [1, 2, 3]\n",
    "    value = [clicks, total_conversions, approved_conversions]\n",
    "    \n",
    "    return source, target, value\n",
    "\n",
    "# Calculate data for each gender\n",
    "source_male, target_male, value_male = calculate_sankey_data(df_male)\n",
    "source_female, target_female, value_female = calculate_sankey_data(df_female)\n",
    "\n",
    "# Create the subplot figure\n",
    "fig = make_subplots(rows=1, cols=2, specs=[[{'type': 'sankey'}, {'type': 'sankey'}]])\n",
    "\n",
    "# Male Sankey\n",
    "fig.add_trace(go.Sankey(\n",
    "    node=dict(\n",
    "      pad=15,\n",
    "      thickness=20,\n",
    "      line=dict(color=\"black\", width=0.5),\n",
    "      label=[\"Impressions\", \"Clicks\", \"Total Conversions\", \"Approved Conversions\"]\n",
    "    ),\n",
    "    link=dict(\n",
    "      source=source_male,\n",
    "      target=target_male,\n",
    "      value=value_male\n",
    "    )), row=1, col=1)\n",
    "\n",
    "# Female Sankey\n",
    "fig.add_trace(go.Sankey(\n",
    "    node=dict(\n",
    "      pad=15,\n",
    "      thickness=20,\n",
    "      line=dict(color=\"black\", width=0.5),\n",
    "      label=[\"Impressions\", \"Clicks\", \"Total Conversions\", \"Approved Conversions\"]\n",
    "    ),\n",
    "    link=dict(\n",
    "      source=source_female,\n",
    "      target=target_female,\n",
    "      value=value_female\n",
    "    )), row=1, col=2)\n",
    "\n",
    "# Update layout\n",
    "fig.update_layout(title_text=\"Gender-Specific Advertising Conversion Funnels\", template=\"plotly\")\n",
    "\n",
    "# Show the figure\n",
    "fig.show()"
   ]
  },
  {
   "cell_type": "code",
   "execution_count": null,
   "metadata": {},
   "outputs": [],
   "source": [
    "#TODO: Ask if there's a way to make the two Sankey diagrams share the same scale for better comparison. Also, ask if there's a way to add a legend to the diagrams."
   ]
  },
  {
   "cell_type": "code",
   "execution_count": 48,
   "metadata": {},
   "outputs": [
    {
     "name": "stdout",
     "output_type": "stream",
     "text": [
      "Male clicks data does not seem normally distributed (reject H0)\n"
     ]
    }
   ],
   "source": [
    "from scipy import stats\n",
    "\n",
    "# Assuming `df_male` and `df_female` are your dataframes for males and females\n",
    "# Let's say you are testing the 'clicks' column for normality\n",
    "stat, p_value = stats.shapiro(df_male['clicks'])\n",
    "\n",
    "# Check the p-value\n",
    "if p_value > 0.05:\n",
    "    print('Male clicks data seems normally distributed (fail to reject H0)')\n",
    "else:\n",
    "    print('Male clicks data does not seem normally distributed (reject H0)')"
   ]
  },
  {
   "cell_type": "code",
   "execution_count": 49,
   "metadata": {},
   "outputs": [
    {
     "name": "stdout",
     "output_type": "stream",
     "text": [
      "Female clicks data does not seem normally distributed (reject H0)\n"
     ]
    }
   ],
   "source": [
    "from scipy import stats\n",
    "\n",
    "# Assuming `df_male` and `df_female` are your dataframes for males and females\n",
    "# Let's say you are testing the 'clicks' column for normality\n",
    "stat, p_value = stats.shapiro(df_female['clicks'])\n",
    "\n",
    "# Check the p-value\n",
    "if p_value > 0.05:\n",
    "    print('Female clicks data seems normally distributed (fail to reject H0)')\n",
    "else:\n",
    "    print('Female clicks data does not seem normally distributed (reject H0)')"
   ]
  },
  {
   "cell_type": "code",
   "execution_count": 50,
   "metadata": {},
   "outputs": [
    {
     "name": "stdout",
     "output_type": "stream",
     "text": [
      "There is a significant difference between male and female clicks (reject H0)\n"
     ]
    }
   ],
   "source": [
    "u_stat, p_val = stats.mannwhitneyu(df_male['clicks'], df_female['total_conversion'])\n",
    "\n",
    "# Check the p-value\n",
    "if p_val < 0.05:\n",
    "    print('There is a significant difference between male and female clicks (reject H0)')\n",
    "else:\n",
    "    print('There is no significant difference between male and female clicks (fail to reject H0)')"
   ]
  },
  {
   "cell_type": "code",
   "execution_count": 51,
   "metadata": {},
   "outputs": [
    {
     "name": "stdout",
     "output_type": "stream",
     "text": [
      "gender          F          M\n",
      "age                         \n",
      "30-34   25.883249  19.144105\n",
      "35-39   38.174312  21.100719\n",
      "40-44   48.383178  24.844660\n",
      "45-49   68.413043  36.454545\n"
     ]
    }
   ],
   "source": [
    "# Group by both 'age_group' and 'gender' and calculate mean clicks\n",
    "segmented_clicks = df.groupby(['age', 'gender'])['clicks'].mean().unstack()\n",
    "print(segmented_clicks)\n"
   ]
  },
  {
   "cell_type": "code",
   "execution_count": 52,
   "metadata": {},
   "outputs": [
    {
     "data": {
      "image/png": "[encoded data removed]",
      "text/plain": [
       "<Figure size 640x480 with 1 Axes>"
      ]
     },
     "metadata": {},
     "output_type": "display_data"
    }
   ],
   "source": [
    "import seaborn as sns\n",
    "import matplotlib.pyplot as plt\n",
    "\n",
    "sns.barplot(x='age', y='clicks', hue='gender', data=df)\n",
    "plt.title('Clicks by Age Group and Gender')\n",
    "plt.show()\n"
   ]
  },
  {
   "cell_type": "code",
   "execution_count": 55,
   "metadata": {},
   "outputs": [],
   "source": [
    "df = df.reset_index()"
   ]
  },
  {
   "cell_type": "code",
   "execution_count": 56,
   "metadata": {},
   "outputs": [
    {
     "name": "stdout",
     "output_type": "stream",
     "text": [
      "                            OLS Regression Results                            \n",
      "==============================================================================\n",
      "Dep. Variable:                 clicks   R-squared:                       0.988\n",
      "Model:                            OLS   Adj. R-squared:                  0.988\n",
      "Method:                 Least Squares   F-statistic:                 4.647e+04\n",
      "Date:                Tue, 13 Feb 2024   Prob (F-statistic):               0.00\n",
      "Time:                        09:40:36   Log-Likelihood:                -3718.3\n",
      "No. Observations:                1143   AIC:                             7443.\n",
      "Df Residuals:                    1140   BIC:                             7458.\n",
      "Df Model:                           2                                         \n",
      "Covariance Type:            nonrobust                                         \n",
      "==============================================================================\n",
      "                 coef    std err          t      P>|t|      [0.025      0.975]\n",
      "------------------------------------------------------------------------------\n",
      "const         -2.2880      0.272     -8.405      0.000      -2.822      -1.754\n",
      "gender         5.1553      0.374     13.785      0.000       4.422       5.889\n",
      "spent          0.6463      0.002    300.438      0.000       0.642       0.650\n",
      "==============================================================================\n",
      "Omnibus:                      495.638   Durbin-Watson:                   1.309\n",
      "Prob(Omnibus):                  0.000   Jarque-Bera (JB):            25062.698\n",
      "Skew:                          -1.222   Prob(JB):                         0.00\n",
      "Kurtosis:                      25.810   Cond. No.                         229.\n",
      "==============================================================================\n",
      "\n",
      "Notes:\n",
      "[1] Standard Errors assume that the covariance matrix of the errors is correctly specified.\n"
     ]
    }
   ],
   "source": [
    "import statsmodels.api as sm\n",
    "\n",
    "df['gender'] = df['gender'].map({'M': 0, 'F': 1})  # Example conversion for gender\n",
    "\n",
    "# Assuming 'gender' is coded as 0 for males and 1 for females, and 'spent' and 'clicks' are your variables\n",
    "X = df[['gender', 'spent']]  # Independent variables\n",
    "y = df['clicks']  # Dependent variable\n",
    "X = sm.add_constant(X)  # Adds a constant term to the predictor\n",
    "\n",
    "model = sm.OLS(y, X).fit()  # OLS regression\n",
    "print(model.summary())"
   ]
  },
  {
   "cell_type": "code",
   "execution_count": 57,
   "metadata": {},
   "outputs": [
    {
     "name": "stdout",
     "output_type": "stream",
     "text": [
      "\n",
      "Treatment Effect Estimates: Matching\n",
      "\n",
      "                     Est.       S.e.          z      P>|z|      [95% Conf. int.]\n",
      "--------------------------------------------------------------------------------\n",
      "           ATE      5.310      0.761      6.978      0.000      3.819      6.802\n",
      "           ATC      4.075      0.872      4.672      0.000      2.365      5.785\n",
      "           ATT      6.637      0.827      8.026      0.000      5.016      8.258\n",
      "\n"
     ]
    },
    {
     "name": "stderr",
     "output_type": "stream",
     "text": [
      "/Users/jevan/Documents/python_projects/fb_ad_causal_inference/fb_ad_venv/lib/python3.10/site-packages/causalinference/estimators/matching.py:100: FutureWarning:\n",
      "\n",
      "`rcond` parameter will change to the default of machine precision times ``max(M, N)`` where M and N are the input matrix dimensions.\n",
      "To use the future default and silence this warning we advise to pass `rcond=None`, to keep using the old, explicitly pass `rcond=-1`.\n",
      "\n"
     ]
    }
   ],
   "source": [
    "from sklearn.linear_model import LogisticRegression\n",
    "from causalinference import CausalModel\n",
    "\n",
    "# Create a binary variable for gender and prepare data for PSM\n",
    "#df['gender_bin'] = df['gender'].apply(lambda x: 1 if x == 'F' else 0)\n",
    "X = df[['spent']]  # Covariate\n",
    "y = df['gender']  # Treatment assignment\n",
    "\n",
    "# Fit logistic regression for propensity score\n",
    "logit = LogisticRegression()\n",
    "logit.fit(X, y)\n",
    "df['propensity_score'] = logit.predict_proba(X)[:, 1]\n",
    "\n",
    "# Use CausalModel or another PSM tool to match\n",
    "causal = CausalModel(Y=df['clicks'].values, D=df['gender'].values, X=df['propensity_score'].values)\n",
    "causal.est_via_matching(bias_adj=True)\n",
    "print(causal.estimates)"
   ]
  },
  {
   "cell_type": "code",
   "execution_count": 29,
   "metadata": {},
   "outputs": [
    {
     "name": "stdout",
     "output_type": "stream",
     "text": [
      "ad_id                    int64\n",
      "reporting_end           object\n",
      "campaign_id             object\n",
      "fb_campaign_id          object\n",
      "age                     object\n",
      "gender                  object\n",
      "interest1               object\n",
      "interest2               object\n",
      "interest3                int64\n",
      "impressions            float64\n",
      "clicks                   int64\n",
      "spent                  float64\n",
      "total_conversion       float64\n",
      "approved_conversion    float64\n",
      "CTR                    float64\n",
      "CPC                    float64\n",
      "CPM                    float64\n",
      "CVR                    float64\n",
      "CPA                    float64\n",
      "dtype: object\n"
     ]
    }
   ],
   "source": [
    "print(df.dtypes)"
   ]
  },
  {
   "cell_type": "code",
   "execution_count": 30,
   "metadata": {},
   "outputs": [
    {
     "data": {
      "text/html": [
       "<div>\n",
       "<style scoped>\n",
       "    .dataframe tbody tr th:only-of-type {\n",
       "        vertical-align: middle;\n",
       "    }\n",
       "\n",
       "    .dataframe tbody tr th {\n",
       "        vertical-align: top;\n",
       "    }\n",
       "\n",
       "    .dataframe thead th {\n",
       "        text-align: right;\n",
       "    }\n",
       "</style>\n",
       "<table border=\"1\" class=\"dataframe\">\n",
       "  <thead>\n",
       "    <tr style=\"text-align: right;\">\n",
       "      <th></th>\n",
       "      <th>ad_id</th>\n",
       "      <th>reporting_end</th>\n",
       "      <th>campaign_id</th>\n",
       "      <th>fb_campaign_id</th>\n",
       "      <th>age</th>\n",
       "      <th>interest1</th>\n",
       "      <th>interest2</th>\n",
       "      <th>interest3</th>\n",
       "      <th>impressions</th>\n",
       "      <th>clicks</th>\n",
       "      <th>spent</th>\n",
       "      <th>total_conversion</th>\n",
       "      <th>approved_conversion</th>\n",
       "      <th>CTR</th>\n",
       "      <th>CPC</th>\n",
       "      <th>CPM</th>\n",
       "      <th>CVR</th>\n",
       "      <th>CPA</th>\n",
       "      <th>gender_M</th>\n",
       "    </tr>\n",
       "    <tr>\n",
       "      <th>reporting_start</th>\n",
       "      <th></th>\n",
       "      <th></th>\n",
       "      <th></th>\n",
       "      <th></th>\n",
       "      <th></th>\n",
       "      <th></th>\n",
       "      <th></th>\n",
       "      <th></th>\n",
       "      <th></th>\n",
       "      <th></th>\n",
       "      <th></th>\n",
       "      <th></th>\n",
       "      <th></th>\n",
       "      <th></th>\n",
       "      <th></th>\n",
       "      <th></th>\n",
       "      <th></th>\n",
       "      <th></th>\n",
       "      <th></th>\n",
       "    </tr>\n",
       "  </thead>\n",
       "  <tbody>\n",
       "    <tr>\n",
       "      <th>2017-08-17</th>\n",
       "      <td>708746</td>\n",
       "      <td>17/08/2017</td>\n",
       "      <td>916</td>\n",
       "      <td>103916</td>\n",
       "      <td>30-34</td>\n",
       "      <td>15</td>\n",
       "      <td>17</td>\n",
       "      <td>17</td>\n",
       "      <td>7350.0</td>\n",
       "      <td>1</td>\n",
       "      <td>1.430000</td>\n",
       "      <td>2.0</td>\n",
       "      <td>1.0</td>\n",
       "      <td>0.000136</td>\n",
       "      <td>1.430000</td>\n",
       "      <td>0.194558</td>\n",
       "      <td>1.000000</td>\n",
       "      <td>1.430000</td>\n",
       "      <td>True</td>\n",
       "    </tr>\n",
       "    <tr>\n",
       "      <th>2017-08-17</th>\n",
       "      <td>708749</td>\n",
       "      <td>17/08/2017</td>\n",
       "      <td>916</td>\n",
       "      <td>103917</td>\n",
       "      <td>30-34</td>\n",
       "      <td>16</td>\n",
       "      <td>19</td>\n",
       "      <td>21</td>\n",
       "      <td>17861.0</td>\n",
       "      <td>2</td>\n",
       "      <td>1.820000</td>\n",
       "      <td>2.0</td>\n",
       "      <td>0.0</td>\n",
       "      <td>0.000112</td>\n",
       "      <td>0.910000</td>\n",
       "      <td>0.101898</td>\n",
       "      <td>0.000000</td>\n",
       "      <td>inf</td>\n",
       "      <td>True</td>\n",
       "    </tr>\n",
       "    <tr>\n",
       "      <th>2017-08-17</th>\n",
       "      <td>708771</td>\n",
       "      <td>17/08/2017</td>\n",
       "      <td>916</td>\n",
       "      <td>103920</td>\n",
       "      <td>30-34</td>\n",
       "      <td>20</td>\n",
       "      <td>25</td>\n",
       "      <td>22</td>\n",
       "      <td>693.0</td>\n",
       "      <td>0</td>\n",
       "      <td>0.000000</td>\n",
       "      <td>1.0</td>\n",
       "      <td>0.0</td>\n",
       "      <td>0.000000</td>\n",
       "      <td>NaN</td>\n",
       "      <td>0.000000</td>\n",
       "      <td>NaN</td>\n",
       "      <td>NaN</td>\n",
       "      <td>True</td>\n",
       "    </tr>\n",
       "    <tr>\n",
       "      <th>2017-08-30</th>\n",
       "      <td>708815</td>\n",
       "      <td>30/08/2017</td>\n",
       "      <td>916</td>\n",
       "      <td>103928</td>\n",
       "      <td>30-34</td>\n",
       "      <td>28</td>\n",
       "      <td>32</td>\n",
       "      <td>32</td>\n",
       "      <td>4259.0</td>\n",
       "      <td>1</td>\n",
       "      <td>1.250000</td>\n",
       "      <td>1.0</td>\n",
       "      <td>0.0</td>\n",
       "      <td>0.000235</td>\n",
       "      <td>1.250000</td>\n",
       "      <td>0.293496</td>\n",
       "      <td>0.000000</td>\n",
       "      <td>inf</td>\n",
       "      <td>True</td>\n",
       "    </tr>\n",
       "    <tr>\n",
       "      <th>2017-08-17</th>\n",
       "      <td>708818</td>\n",
       "      <td>17/08/2017</td>\n",
       "      <td>916</td>\n",
       "      <td>103928</td>\n",
       "      <td>30-34</td>\n",
       "      <td>28</td>\n",
       "      <td>33</td>\n",
       "      <td>32</td>\n",
       "      <td>4133.0</td>\n",
       "      <td>1</td>\n",
       "      <td>1.290000</td>\n",
       "      <td>1.0</td>\n",
       "      <td>1.0</td>\n",
       "      <td>0.000242</td>\n",
       "      <td>1.290000</td>\n",
       "      <td>0.312122</td>\n",
       "      <td>1.000000</td>\n",
       "      <td>1.290000</td>\n",
       "      <td>True</td>\n",
       "    </tr>\n",
       "    <tr>\n",
       "      <th>...</th>\n",
       "      <td>...</td>\n",
       "      <td>...</td>\n",
       "      <td>...</td>\n",
       "      <td>...</td>\n",
       "      <td>...</td>\n",
       "      <td>...</td>\n",
       "      <td>...</td>\n",
       "      <td>...</td>\n",
       "      <td>...</td>\n",
       "      <td>...</td>\n",
       "      <td>...</td>\n",
       "      <td>...</td>\n",
       "      <td>...</td>\n",
       "      <td>...</td>\n",
       "      <td>...</td>\n",
       "      <td>...</td>\n",
       "      <td>...</td>\n",
       "      <td>...</td>\n",
       "      <td>...</td>\n",
       "    </tr>\n",
       "    <tr>\n",
       "      <th>2017-08-19</th>\n",
       "      <td>1314410</td>\n",
       "      <td>19/08/2017</td>\n",
       "      <td>blank_id</td>\n",
       "      <td>blank_id</td>\n",
       "      <td>45-49</td>\n",
       "      <td>109</td>\n",
       "      <td>111</td>\n",
       "      <td>114</td>\n",
       "      <td>1129773.0</td>\n",
       "      <td>252</td>\n",
       "      <td>358.189997</td>\n",
       "      <td>13.0</td>\n",
       "      <td>2.0</td>\n",
       "      <td>0.000223</td>\n",
       "      <td>1.421389</td>\n",
       "      <td>0.317046</td>\n",
       "      <td>0.007937</td>\n",
       "      <td>179.094999</td>\n",
       "      <td>False</td>\n",
       "    </tr>\n",
       "    <tr>\n",
       "      <th>2017-08-19</th>\n",
       "      <td>1314411</td>\n",
       "      <td>19/08/2017</td>\n",
       "      <td>blank_id</td>\n",
       "      <td>blank_id</td>\n",
       "      <td>45-49</td>\n",
       "      <td>110</td>\n",
       "      <td>111</td>\n",
       "      <td>116</td>\n",
       "      <td>637549.0</td>\n",
       "      <td>120</td>\n",
       "      <td>173.880003</td>\n",
       "      <td>3.0</td>\n",
       "      <td>0.0</td>\n",
       "      <td>0.000188</td>\n",
       "      <td>1.449000</td>\n",
       "      <td>0.272732</td>\n",
       "      <td>0.000000</td>\n",
       "      <td>inf</td>\n",
       "      <td>False</td>\n",
       "    </tr>\n",
       "    <tr>\n",
       "      <th>2017-08-19</th>\n",
       "      <td>1314412</td>\n",
       "      <td>19/08/2017</td>\n",
       "      <td>blank_id</td>\n",
       "      <td>blank_id</td>\n",
       "      <td>45-49</td>\n",
       "      <td>111</td>\n",
       "      <td>113</td>\n",
       "      <td>117</td>\n",
       "      <td>151531.0</td>\n",
       "      <td>28</td>\n",
       "      <td>40.289999</td>\n",
       "      <td>2.0</td>\n",
       "      <td>0.0</td>\n",
       "      <td>0.000185</td>\n",
       "      <td>1.438929</td>\n",
       "      <td>0.265886</td>\n",
       "      <td>0.000000</td>\n",
       "      <td>inf</td>\n",
       "      <td>False</td>\n",
       "    </tr>\n",
       "    <tr>\n",
       "      <th>2017-08-17</th>\n",
       "      <td>1314414</td>\n",
       "      <td>17/08/2017</td>\n",
       "      <td>blank_id</td>\n",
       "      <td>blank_id</td>\n",
       "      <td>45-49</td>\n",
       "      <td>113</td>\n",
       "      <td>114</td>\n",
       "      <td>117</td>\n",
       "      <td>790253.0</td>\n",
       "      <td>135</td>\n",
       "      <td>198.710001</td>\n",
       "      <td>8.0</td>\n",
       "      <td>2.0</td>\n",
       "      <td>0.000171</td>\n",
       "      <td>1.471926</td>\n",
       "      <td>0.251451</td>\n",
       "      <td>0.014815</td>\n",
       "      <td>99.355000</td>\n",
       "      <td>False</td>\n",
       "    </tr>\n",
       "    <tr>\n",
       "      <th>2017-08-17</th>\n",
       "      <td>1314415</td>\n",
       "      <td>17/08/2017</td>\n",
       "      <td>blank_id</td>\n",
       "      <td>blank_id</td>\n",
       "      <td>45-49</td>\n",
       "      <td>114</td>\n",
       "      <td>116</td>\n",
       "      <td>118</td>\n",
       "      <td>513161.0</td>\n",
       "      <td>114</td>\n",
       "      <td>165.609999</td>\n",
       "      <td>5.0</td>\n",
       "      <td>2.0</td>\n",
       "      <td>0.000222</td>\n",
       "      <td>1.452719</td>\n",
       "      <td>0.322725</td>\n",
       "      <td>0.017544</td>\n",
       "      <td>82.804999</td>\n",
       "      <td>False</td>\n",
       "    </tr>\n",
       "  </tbody>\n",
       "</table>\n",
       "<p>1143 rows × 19 columns</p>\n",
       "</div>"
      ],
      "text/plain": [
       "                   ad_id reporting_end campaign_id fb_campaign_id    age  \\\n",
       "reporting_start                                                            \n",
       "2017-08-17        708746    17/08/2017         916         103916  30-34   \n",
       "2017-08-17        708749    17/08/2017         916         103917  30-34   \n",
       "2017-08-17        708771    17/08/2017         916         103920  30-34   \n",
       "2017-08-30        708815    30/08/2017         916         103928  30-34   \n",
       "2017-08-17        708818    17/08/2017         916         103928  30-34   \n",
       "...                  ...           ...         ...            ...    ...   \n",
       "2017-08-19       1314410    19/08/2017    blank_id       blank_id  45-49   \n",
       "2017-08-19       1314411    19/08/2017    blank_id       blank_id  45-49   \n",
       "2017-08-19       1314412    19/08/2017    blank_id       blank_id  45-49   \n",
       "2017-08-17       1314414    17/08/2017    blank_id       blank_id  45-49   \n",
       "2017-08-17       1314415    17/08/2017    blank_id       blank_id  45-49   \n",
       "\n",
       "                interest1 interest2  interest3  impressions  clicks  \\\n",
       "reporting_start                                                       \n",
       "2017-08-17             15        17         17       7350.0       1   \n",
       "2017-08-17             16        19         21      17861.0       2   \n",
       "2017-08-17             20        25         22        693.0       0   \n",
       "2017-08-30             28        32         32       4259.0       1   \n",
       "2017-08-17             28        33         32       4133.0       1   \n",
       "...                   ...       ...        ...          ...     ...   \n",
       "2017-08-19            109       111        114    1129773.0     252   \n",
       "2017-08-19            110       111        116     637549.0     120   \n",
       "2017-08-19            111       113        117     151531.0      28   \n",
       "2017-08-17            113       114        117     790253.0     135   \n",
       "2017-08-17            114       116        118     513161.0     114   \n",
       "\n",
       "                      spent  total_conversion  approved_conversion       CTR  \\\n",
       "reporting_start                                                                \n",
       "2017-08-17         1.430000               2.0                  1.0  0.000136   \n",
       "2017-08-17         1.820000               2.0                  0.0  0.000112   \n",
       "2017-08-17         0.000000               1.0                  0.0  0.000000   \n",
       "2017-08-30         1.250000               1.0                  0.0  0.000235   \n",
       "2017-08-17         1.290000               1.0                  1.0  0.000242   \n",
       "...                     ...               ...                  ...       ...   \n",
       "2017-08-19       358.189997              13.0                  2.0  0.000223   \n",
       "2017-08-19       173.880003               3.0                  0.0  0.000188   \n",
       "2017-08-19        40.289999               2.0                  0.0  0.000185   \n",
       "2017-08-17       198.710001               8.0                  2.0  0.000171   \n",
       "2017-08-17       165.609999               5.0                  2.0  0.000222   \n",
       "\n",
       "                      CPC       CPM       CVR         CPA  gender_M  \n",
       "reporting_start                                                      \n",
       "2017-08-17       1.430000  0.194558  1.000000    1.430000      True  \n",
       "2017-08-17       0.910000  0.101898  0.000000         inf      True  \n",
       "2017-08-17            NaN  0.000000       NaN         NaN      True  \n",
       "2017-08-30       1.250000  0.293496  0.000000         inf      True  \n",
       "2017-08-17       1.290000  0.312122  1.000000    1.290000      True  \n",
       "...                   ...       ...       ...         ...       ...  \n",
       "2017-08-19       1.421389  0.317046  0.007937  179.094999     False  \n",
       "2017-08-19       1.449000  0.272732  0.000000         inf     False  \n",
       "2017-08-19       1.438929  0.265886  0.000000         inf     False  \n",
       "2017-08-17       1.471926  0.251451  0.014815   99.355000     False  \n",
       "2017-08-17       1.452719  0.322725  0.017544   82.804999     False  \n",
       "\n",
       "[1143 rows x 19 columns]"
      ]
     },
     "execution_count": 30,
     "metadata": {},
     "output_type": "execute_result"
    }
   ],
   "source": [
    "df = pd.get_dummies(df, columns=['gender'], drop_first=True)\n",
    "df"
   ]
  }
 ],
 "metadata": {
  "kernelspec": {
   "display_name": "fb_ad_venv",
   "language": "python",
   "name": "python3"
  },
  "language_info": {
   "codemirror_mode": {
    "name": "ipython",
    "version": 3
   },
   "file_extension": ".py",
   "mimetype": "text/x-python",
   "name": "python",
   "nbconvert_exporter": "python",
   "pygments_lexer": "ipython3",
   "version": "3.10.2"
  }
 },
 "nbformat": 4,
 "nbformat_minor": 2
}
